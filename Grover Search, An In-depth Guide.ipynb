{
 "cells": [
  {
   "cell_type": "markdown",
   "metadata": {},
   "source": [
    "# Understanding the Grover Search on a $2^{N}$ Space"
   ]
  },
  {
   "cell_type": "markdown",
   "metadata": {},
   "source": [
    "##### This document is meant as an illustrative guide into the Grover Algorithm, and its application as a search algorithm.  It goes over both the theory and realization of the Grover Algorithm, with plenty of working examples.\n",
    "\n",
    "_______________________________________________________________________________________________"
   ]
  },
  {
   "cell_type": "markdown",
   "metadata": {},
   "source": [
    "## Getting Started\n",
    "------------------------------------"
   ]
  },
  {
   "cell_type": "markdown",
   "metadata": {},
   "source": [
    "This code is dependant on Python 3.5 or greater, as well as the 'Project Q' files found from the Github project:\n",
    "\n",
    "https://github.com/ProjectQ-Framework/ProjectQ\n",
    "\n",
    "In order to make sure all of the modules import correctly, make sure that this file is being run within the same directory as the folder called 'projectq.'  \n",
    "\n",
    "I reccomend downloading the Github project, creating a new folder somewhere (i.e. 'Project Q Code' located on your Desktop), and copying the folder 'projectq' from the Github zip file into your new created folder.  Then, make sure that this .ipynb file is located in your created folder, along with 'projectq.'"
   ]
  },
  {
   "cell_type": "code",
   "execution_count": 4,
   "metadata": {
    "scrolled": true
   },
   "outputs": [
    {
     "name": "stdout",
     "output_type": "stream",
     "text": [
      "Successfully Imported Modules\n"
     ]
    }
   ],
   "source": [
    "import math\n",
    "import random\n",
    "import numpy as np\n",
    "import matplotlib.pyplot as plt\n",
    "import projectq as Q\n",
    "from projectq.ops import H,X,Z,Measure,All\n",
    "from projectq.meta import Control,Compute,Uncompute,Loop\n",
    "from projectq.backends import Simulator\n",
    "\n",
    "if(Q,np,plt,math,random):\n",
    "    print(\"Successfully Imported Modules\")"
   ]
  },
  {
   "cell_type": "markdown",
   "metadata": {},
   "source": [
    "## What is the Grover Algorithm?\n",
    "---"
   ]
  },
  {
   "cell_type": "markdown",
   "metadata": {},
   "source": [
    "Grover's Algorithm is a quantum algorithm that can be thought of as searching through an un-ordered list.  Imagine you want to look someone up in a directory, which is alphabetically ordered by last name, but you only have their first name.  In this scenario, you are stuck going through each entry one at a time, until you eventually happen upon the person you are looking for.\n",
    "\n",
    "Exhaustively searching through the database represents the classical approach, which requires on average $\\frac{N}{2}$ evaluations, which is of the order *O*($N$) for a classical algorithm.  By instead using the Grover Algorithm, we can complete this search (with a high success probability) using only *O*($\\sqrt{N}$) evaluations."
   ]
  },
  {
   "cell_type": "markdown",
   "metadata": {},
   "source": [
    "## Setting Up the Problem\n",
    "---"
   ]
  },
  {
   "cell_type": "markdown",
   "metadata": {},
   "source": [
    "This document contains a simple code that demonstrates running a Grover Search on a $2^{N}$ space.  Specifically, our algorithm will allow us to pick any state we want (within the $2^{N}$ space), and then attempt to find that state with a measurement.\n",
    "\n",
    "Like the classical search, our quantum algorithm needs to start in an equal superposition of all states, representing having no *a priori* knowledge of where the marked entry is located.  So to start off our algorithm, we need to specify the size of our problem, and then create an equal superposition Hilbert Space.  The code below does exactly this.\n",
    "\n",
    "N = an integer, which will be used to create $2^{N}$ states \n",
    "\n",
    "eng = the quantum engine, which will create the qubits\n",
    "\n",
    "qureg = the quantum register, which stores the state of our system (N qubits)"
   ]
  },
  {
   "cell_type": "code",
   "execution_count": 12,
   "metadata": {},
   "outputs": [
    {
     "name": "stdout",
     "output_type": "stream",
     "text": [
      "(Note: This is the (slow) Python simulator.)\n"
     ]
    }
   ],
   "source": [
    "N = 4    #recommened example:   N=4\n",
    "\n",
    "eng = Q.MainEngine()\n",
    "qureg = eng.allocate_qureg(N)"
   ]
  },
  {
   "cell_type": "markdown",
   "metadata": {},
   "source": [
    "So far we have created our quantum system, consisting of N qubits, but have not yet created an equal superposition of $2^{N}$ states.  Allocating new qubits to the quantum register puts them initially in the state |$0 \\rangle$, which means that so far we have created the following system:"
   ]
  },
  {
   "cell_type": "markdown",
   "metadata": {},
   "source": [
    "$$| \\Psi \\rangle = |0 \\rangle |0 \\rangle ... |0 \\rangle$$\n",
    "\n",
    "or\n",
    "\n",
    "$$| \\Psi \\rangle = |00...0 \\rangle $$"
   ]
  },
  {
   "cell_type": "markdown",
   "metadata": {},
   "source": [
    "So in order to get our desired state, we will apply the following operation on our system:\n",
    "\n",
    "$$H^{\\otimes N} | \\Psi \\rangle = \\frac{1}{\\sqrt{2^{N}}} \\sum_{i=0}^{2^{N}-1} |i \\rangle $$\n",
    "\n",
    "which can be implementing in our code by using All(H) | qureg:"
   ]
  },
  {
   "cell_type": "code",
   "execution_count": 13,
   "metadata": {},
   "outputs": [],
   "source": [
    "All(H) | qureg"
   ]
  },
  {
   "cell_type": "markdown",
   "metadata": {},
   "source": [
    "where H is a Hadamard Gate:\n",
    "\n",
    "$$ H |0\\rangle = \\frac{1}{\\sqrt{2}}( |0\\rangle + |1\\rangle ) \\\\\n",
    "   H |1\\rangle = \\frac{1}{\\sqrt{2}}( |0\\rangle - |1\\rangle ) $$\n",
    "\n",
    "To test that we really have achieved an equal superposition, we can measure our system and view the results:"
   ]
  },
  {
   "cell_type": "code",
   "execution_count": 14,
   "metadata": {},
   "outputs": [
    {
     "name": "stdout",
     "output_type": "stream",
     "text": [
      "Measured The State:  [1. 1. 0. 1.]\n"
     ]
    }
   ],
   "source": [
    "All(Measure) | qureg\n",
    "eng.flush()\n",
    "\n",
    "state = np.zeros(N)\n",
    "for i in np.arange(N):\n",
    "    state[i] = int(qureg[i])\n",
    "    \n",
    "print(\"Measured The State: \",state)"
   ]
  },
  {
   "cell_type": "markdown",
   "metadata": {},
   "source": [
    "Try re-running the 3 previous cells of code a few times, and seeing the different measurement results.  We need all three cells of code each time, because the act of measuring the qureg in cell 3 collapses our system down to a single state.  Thus, we need to repeat code cells 1 and 2 to re-prepare an equal superposition each time."
   ]
  },
  {
   "cell_type": "markdown",
   "metadata": {},
   "source": [
    "Measure | = performs a measurement on the specified state, in this case the state of the system stored in qureg (|$  \\Psi \\rangle$)\n",
    "\n",
    ".flush() = a function that deallocates all the qubits in the system.  This is an important final step after making measurements\n",
    "\n",
    "int(qureg[i]) = after a measurement has been made, we can view the final state of each qubit (either |$0\\rangle$ or |$1\\rangle$) as an integer"
   ]
  },
  {
   "cell_type": "markdown",
   "metadata": {},
   "source": [
    "### Plotting An Equal Superpositon\n",
    "---\n",
    "\n",
    "Let's recombine the 3 previous code cells into 1, and generate multiple measurement results in order to make a plot.  In addition, we are also going to create two quick functions:  \n",
    "\n",
    "1) State_Number - convert the binary value of a state, into an integer, for ease of viewing the results.  For example:\n",
    "\n",
    "$$ |0110\\rangle \\implies |6\\rangle $$\n",
    "\n",
    "2) Bins - creates a vector 'bins' that will be used for plotting results nicely"
   ]
  },
  {
   "cell_type": "code",
   "execution_count": 16,
   "metadata": {},
   "outputs": [
    {
     "name": "stdout",
     "output_type": "stream",
     "text": [
      "(Note: This is the (slow) Python simulator.)\n"
     ]
    },
    {
     "data": {
      "image/png": "[encoded data removed]",
      "text/plain": [
       "<Figure size 432x288 with 1 Axes>"
      ]
     },
     "metadata": {},
     "output_type": "display_data"
    }
   ],
   "source": [
    "#-------------------------- Functions -------------------------------\n",
    "def State_Number(vec):\n",
    "    '''\n",
    "    Take in a binary vector representing the state measured\n",
    "    Returns an integer for the coressponding state\n",
    "    '''\n",
    "    N = len(vec)\n",
    "    n = 0\n",
    "    for i in np.arange(len(vec)):\n",
    "        if(int(vec[i])==1):\n",
    "            n = n + 2**( N-1-int(i) )\n",
    "    return n\n",
    "\n",
    "def Bins(states):\n",
    "    '''\n",
    "    Takes in an integer representing the total number of states for plotting\n",
    "    Returns an array for plotting a histogram of results\n",
    "    '''\n",
    "    vec = np.zeros(states+1)\n",
    "    b = -0.5\n",
    "    for i in np.arange(states+1):\n",
    "        vec[i] = b\n",
    "        b = b + 1.0\n",
    "    return vec\n",
    "\n",
    "#----------------------- Running The Code ----------------------------\n",
    "\n",
    "N = 3\n",
    "shots = 400\n",
    "Measurement_Results = np.zeros(shots)\n",
    "state = np.zeros(N)\n",
    "\n",
    "eng2 = Q.MainEngine()\n",
    "for i in np.arange(shots):\n",
    "    qureg2 = eng2.allocate_qureg(N)\n",
    "    All(H) | qureg2\n",
    "    All(Measure) | qureg2\n",
    "    eng2.flush()\n",
    "    for j in np.arange(N):\n",
    "        state[j] = int(qureg2[j])\n",
    "    Measurement_Results[i] = State_Number(state)\n",
    "\n",
    "bins_plot = Bins(2**N)\n",
    "plt.hist(Measurement_Results,bins_plot,rwidth=0.75)\n",
    "plt.show()"
   ]
  },
  {
   "cell_type": "markdown",
   "metadata": {},
   "source": [
    "The code above should produce an easy to read histogram, where all of the states in the system appear with equal probability (subject to randomness).  Be sure to try and fully understand this code before moving on.  Change the parameters 'N' and 'shots' to get a feel for different results."
   ]
  },
  {
   "cell_type": "markdown",
   "metadata": {},
   "source": [
    "## Implementing an Oracle\n",
    "---\n",
    "\n",
    "Now that we know how to create an equal superposition of $2^{N}$ states, it is time to move forward with implementing the Grover Search.\n",
    "\n",
    "The first thing we need is an operator $U_w$, known as an 'oracle.'  Simply put, this is an operator that picks out a single state in the system, say |$0101\\rangle$, where we can choose which state to pick out (this is how we are going to choose which state we want to search for).\n",
    "\n",
    "More specifically, we want to pick out the state of interest |$x_o\\rangle$ and then flip its phase from +1 to -1, but leave all other states |$x\\rangle$ in the system untouched:\n",
    "\n",
    "$$ U_w |x_o\\rangle = -|x_o\\rangle$$\n",
    "$$ U_w |x\\rangle = |x\\rangle$$\n",
    "\n",
    "We are going to achieve this desired result as follows:"
   ]
  },
  {
   "cell_type": "markdown",
   "metadata": {},
   "source": [
    "1) We will attach an ancilla qubit to our system\n",
    "\n",
    "2) Put the ancilla in the state |$-x\\rangle$, where |$\\pm x \\rangle = \\frac{1}{\\sqrt{2}} ( $|$0\\rangle \\pm $|$1\\rangle )$\n",
    "\n",
    "3) Use the desired state $|x_o \\rangle$ in a CNOT (control-not) gate to apply an X gate to the ancilla, where:\n",
    "\n",
    "$$ X|0\\rangle = |1\\rangle $$\n",
    "$$ X|1\\rangle = |0\\rangle $$"
   ]
  },
  {
   "cell_type": "markdown",
   "metadata": {},
   "source": [
    "This methodology works because of what happens when we apply an X gate to the state $|-x\\rangle$:\n",
    "\n",
    "$$ X |-x \\rangle = X \\frac{1}{\\sqrt{2}}( |0\\rangle - |1\\rangle ) $$\n",
    "$$ = \\frac{1}{\\sqrt{2}}( |1\\rangle - |0\\rangle ) $$\n",
    "$$ = -|-x\\rangle $$"
   ]
  },
  {
   "cell_type": "markdown",
   "metadata": {},
   "source": [
    "The X operator takes the state |$-x\\rangle \\rightarrow -$|$-x\\rangle$.  And if we can apply this operation on the ancilla, for only the desired state |$x_o\\rangle$:\n",
    "\n",
    "$$ |x_o\\rangle X |-x\\rangle \\rightarrow |x_o\\rangle (-1) |-x\\rangle $$\n",
    "\n",
    "$$ = (-1) |x_o\\rangle |-x \\rangle $$\n",
    "\n",
    "then we will have successfully marked the desired state, and we can discard the ancilla."
   ]
  },
  {
   "cell_type": "markdown",
   "metadata": {},
   "source": [
    "Steps 1 and 2 can be implemented using the following code:"
   ]
  },
  {
   "cell_type": "code",
   "execution_count": 17,
   "metadata": {},
   "outputs": [
    {
     "name": "stdout",
     "output_type": "stream",
     "text": [
      "(Note: This is the (slow) Python simulator.)\n"
     ]
    }
   ],
   "source": [
    "N = 4   \n",
    "eng = Q.MainEngine()\n",
    "qureg = eng.allocate_qureg(N)\n",
    "\n",
    "ancil = eng.allocate_qubit()     #1\n",
    "\n",
    "X | ancil                        #2\n",
    "H | ancil"
   ]
  },
  {
   "cell_type": "markdown",
   "metadata": {},
   "source": [
    "eng.allocate_qubit() = adds another qubit to our system, stored as 'ancil' rather than in qureg\n",
    "\n",
    "X | ancil = puts the ancilla qubit in the state |$1\\rangle$\n",
    "\n",
    "H | ancil = puts the ancilla qubit in the state |$-x\\rangle$"
   ]
  },
  {
   "cell_type": "markdown",
   "metadata": {},
   "source": [
    "Step 3 is a little trickier to implement.  We need to pick out only the state $|x_o\\rangle$ of our choosing.  We can do this with a CNOT gate, which can be thought of like a quantum anaolgy to an \"if statement.\"  Essentially, we want an application like: if( |$x_o\\rangle$ ) $\\rightarrow$ X|$-x\\rangle$ \n",
    "\n",
    "But a CNOT gate is not exactly like an if statement, it works as follows:\n",
    "\n",
    "$$ |0\\rangle |0\\rangle \\rightarrow |0\\rangle |0\\rangle $$\n",
    "$$ |0\\rangle |1\\rangle \\rightarrow |0\\rangle |1\\rangle $$\n",
    "$$ |1\\rangle |0\\rangle \\rightarrow |1\\rangle |1\\rangle $$\n",
    "$$ |1\\rangle |1\\rangle \\rightarrow |1\\rangle |0\\rangle $$\n",
    "\n",
    "where the first state is the 'control qubit', and the second state is the 'target qubit.'  These roles can be reversed if desired, but every CNOT gate needs at least one control and target.  As can be seen by the four possibilities above, when the control qubit is in the state |$0\\rangle$, the target qubit is unchanged.  Conversely, when the control qubit is in the state |$1\\rangle$, the target qubit is flipped (or acted on by an X gate)."
   ]
  },
  {
   "cell_type": "markdown",
   "metadata": {},
   "source": [
    "To use a CNOT operation for our oracle, we will use the state |$x_o\\rangle$ as the control, and the ancilla qubit as the target.  For states of higher order, the CNOT gate works the same, only each control qubit must be in the state |$1\\rangle$.  For example:\n",
    "\n",
    "$$ CNOT |111\\rangle |0\\rangle \\rightarrow |111\\rangle |1\\rangle $$\n",
    "$$ CNOT |101\\rangle |0\\rangle \\rightarrow |101\\rangle |0\\rangle $$\n",
    "\n",
    "In the second case, qubit 2 is in the state |$0\\rangle$, so no change is applied to the target"
   ]
  },
  {
   "cell_type": "markdown",
   "metadata": {},
   "source": [
    "Thus by default, the CNOT gate can be used in our oracle operator for the state |$11...1\\rangle$, but not for any other state.  Since we want our algorithm to be flexible (we can choose any state |$x_o\\rangle$ to be the marked state), we will implement the following strategy:\n",
    "\n",
    "1) We transform our picked state |$x_o\\rangle \\rightarrow $ |$11...1\\rangle$\n",
    "\n",
    "2) Apply the CNOT operation, resulting in |$-x\\rangle \\rightarrow -$|$-x\\rangle$ for the ancilla (for that state only)\n",
    "\n",
    "3) Transform back: |$11...1\\rangle \\rightarrow $ |$x_o\\rangle$\n",
    "\n",
    "This is achieved by the following function:"
   ]
  },
  {
   "cell_type": "code",
   "execution_count": 18,
   "metadata": {},
   "outputs": [],
   "source": [
    "def Oracle(eng,qureg,ancil,state):\n",
    "    '''\n",
    "    Takes in Main Engine (eng), quantum register (qureg), ancilla qubit (ancil)\n",
    "    Takes in a binary vector representing the state to be marked by the oracle (state)\n",
    "    Returns the quantum system after applying the X gate to the ancilla qubit\n",
    "    '''\n",
    "    for i in np.arange( len(state) ):      #flip all 0's to 1's in the locations specified by state\n",
    "        if( int(state[i]) == 0 ):\n",
    "            X | qureg[i]\n",
    "    with Control(eng,qureg):               #the state |111..> will then apply X gate to the ancilla\n",
    "        X | ancil\n",
    "    for i in np.arange( len(state) ):      #transform all the states in qureg back\n",
    "        if( int(state[i]) == 0 ):\n",
    "            X | qureg[i]"
   ]
  },
  {
   "cell_type": "markdown",
   "metadata": {},
   "source": [
    "This function is a little tricky to understand at first, so I recommened studying it carefully before moving on.  In essence:"
   ]
  },
  {
   "cell_type": "markdown",
   "metadata": {},
   "source": [
    "state is a vector representing the desired state |$x_o\\rangle$, for example: state = [0,1,0,1]\n",
    "\n",
    "The for loops in this function basically go through each term in state (each position represents a qubit), and if the value is 0, applies an X operator to the qubit in that location.  It is important to note that this is transforming every state in the system.\n",
    "\n",
    "Consider how this would affect the following three states, for the 0 located in the position state[2], in the example above:\n",
    "\n",
    "$$ |0100\\rangle + |0101\\rangle + |0110\\rangle \\rightarrow |0110\\rangle + |0111\\rangle + |0100\\rangle$$\n",
    "\n",
    "In the end, only the state initially in |$0101\\rangle \\rightarrow$ |$1111\\rangle$ (the |$x_o\\rangle$ that we chose), which is exactly what we need.  Every other state in the system gets mapped to some state with at least one 0.\n"
   ]
  },
  {
   "cell_type": "markdown",
   "metadata": {},
   "source": [
    "By transforming all the states in the system in this way, we can then use a CNOT gate, and make sure that only the desired state |$x_o\\rangle$ will pick up a negative sign.  This is achieved by the code:\n",
    "\n",
    "with Control(eng,qureg):\n",
    "\n",
    "which is a function that uses the entire system represented by qureg as the control. Sidenote: If for instance we only wanted to use the first 2 qubits as the control, we could do something like:\n",
    "\n",
    "with Control(eng,qureg[0:2]):\n",
    "\n",
    "which we will be doing something similar later.\n"
   ]
  },
  {
   "cell_type": "markdown",
   "metadata": {},
   "source": [
    "Putting it all together, we can now implement a code that achieves the following:\n",
    "\n",
    "$$H^{\\otimes N} | \\Psi \\rangle = \\frac{1}{\\sqrt{2^{N}}} \\sum_{i=0}^{2^{N}-1} |i \\rangle \\rightarrow \\frac{1}{\\sqrt{2^{N}}} \\sum_{i=0, i \\neq x_o}^{2^{N}-1} |i \\rangle - \\frac{1}{\\sqrt{2^{N}}}|x_o\\rangle $$"
   ]
  },
  {
   "cell_type": "code",
   "execution_count": 20,
   "metadata": {},
   "outputs": [
    {
     "name": "stdout",
     "output_type": "stream",
     "text": [
      "(Note: This is the (slow) Python simulator.)\n"
     ]
    }
   ],
   "source": [
    "#-------------------------- Functions -------------------------------\n",
    "def Binary_State(n,N):\n",
    "    '''\n",
    "    Take in an integer representing a state (n)\n",
    "    Returns a binary vector for that corresponding state\n",
    "    '''\n",
    "    vec = np.zeros(N)\n",
    "    nn = n*1.0\n",
    "    for i in np.arange(N):\n",
    "        q = nn/( 2**( N-1-int(i) ) )\n",
    "        if( q >= 1.0 ):\n",
    "            vec[i] = 1\n",
    "            nn = nn - 2**( N-1-int(i) )\n",
    "    return vec\n",
    "\n",
    "#----------------------- Running The Code ----------------------------\n",
    "\n",
    "N = 2\n",
    "Xo = 1\n",
    "marked = Binary_State(Xo,N)\n",
    "\n",
    "\n",
    "eng3 = Q.MainEngine()\n",
    "qureg3 = eng3.allocate_qureg(N)\n",
    "All(H) | qureg3\n",
    "\n",
    "ancil3 = eng3.allocate_qubit()\n",
    "X | ancil3\n",
    "H | ancil3\n",
    "Oracle(eng3,qureg3,ancil3,marked)\n",
    "All(Measure) | qureg3\n",
    "Measure | ancil3\n",
    "eng3.flush()"
   ]
  },
  {
   "cell_type": "markdown",
   "metadata": {},
   "source": [
    "To see that this code really does marked the desired state with the function Oracle, run the following code below.  Rather than the ancilla being in the state |$-x\\rangle$, if we instead leave the ancilla in the state |$0\\rangle$, the act of our oralce will achieve the following results:\n",
    "\n",
    "$$ |x_o\\rangle |0\\rangle \\rightarrow |x_o\\rangle |1\\rangle $$\n",
    "\n",
    "which we can observe with a measurement on the system:"
   ]
  },
  {
   "cell_type": "code",
   "execution_count": 33,
   "metadata": {},
   "outputs": [
    {
     "name": "stdout",
     "output_type": "stream",
     "text": [
      "(Note: This is the (slow) Python simulator.)\n",
      "Measured State:  3\n",
      "Ancilla State:   1\n"
     ]
    }
   ],
   "source": [
    "N = 2\n",
    "Xo = 3\n",
    "marked = Binary_State(Xo,N)\n",
    "\n",
    "\n",
    "eng4 = Q.MainEngine()\n",
    "qureg4 = eng4.allocate_qureg(N)\n",
    "All(H) | qureg4\n",
    "\n",
    "ancil4 = eng4.allocate_qubit()\n",
    "\n",
    "Oracle(eng4,qureg4,ancil4,marked)\n",
    "\n",
    "Measure | ancil4\n",
    "All(Measure) | qureg4\n",
    "eng4.flush()\n",
    "\n",
    "state = np.zeros(N)\n",
    "for j in np.arange(N):\n",
    "    state[j] = int(qureg4[j])\n",
    "\n",
    "print(\"Measured State: \",State_Number(state))\n",
    "print(\"Ancilla State:  \",int(ancil4))"
   ]
  },
  {
   "cell_type": "markdown",
   "metadata": {},
   "source": [
    "Run the above code several times, until you observe a measurement result of Xo.  When the state |$x_o\\rangle$ is measured, the ancilla will be in the state |$1\\rangle$, and for any other measurement result, the ancilla will be in the state |$0\\rangle$."
   ]
  },
  {
   "cell_type": "markdown",
   "metadata": {},
   "source": [
    "## Grover Diffusion Operator\n",
    "---\n",
    "\n",
    "Now that we have the our oracle function $U_w$, all we need now is $U_s$, known as the Grover diffusion operator.\n",
    "\n",
    "$$ U_s = 2|s\\rangle \\langle s | - I $$\n",
    "where |$s\\rangle$ is the superposition of all states:\n",
    "$$ |s\\rangle = \\frac{1}{\\sqrt{2^{N}}} \\sum_{i=0}^{2^{N}-1} |i \\rangle $$\n",
    "\n",
    "$U_s$ can be described as a reflection about the mean of the system (|$s\\rangle$).  So in order to achieve this reflection, we are going to invoke the following strategy:\n",
    "\n",
    "1) Map the state |$s\\rangle \\rightarrow$ |$00...0\\rangle$\n",
    "\n",
    "2) Reflect around |$00...0\\rangle$\n",
    "\n",
    "3) Map back to the original basis\n",
    "\n",
    "The code that will be implementing $U_s$ is as follows:"
   ]
  },
  {
   "cell_type": "code",
   "execution_count": 27,
   "metadata": {},
   "outputs": [],
   "source": [
    "def Grover_Diffusion(eng,qureg):\n",
    "    '''\n",
    "    Takes in Main Engine (eng) and quantum register (qureg)\n",
    "    Returns the quantum system after reflecting about the mean\n",
    "    '''\n",
    "    All(H)|qureg                   #1) Maps |s> ---> |00...0>\n",
    "    \n",
    "    All(X)|qureg                   \n",
    "    with Control(eng,qureg[0:-1]): \n",
    "        Z|qureg[-1]                #2) Reflects around the state\n",
    "    All(X)|qureg\n",
    "    \n",
    "    All(H)|qureg                   #3) Maps back to the original basis"
   ]
  },
  {
   "cell_type": "markdown",
   "metadata": {},
   "source": [
    "Like the Oracle function, how the above code achieves the operator $U_s$ is tricky to understand at first, so we will go through it step by step here:\n",
    "\n",
    "Recall earlier that $H^{\\otimes N}$ transformed our quantum system from the state |$00...0\\rangle$ to an equal superposition of all states, |$s\\rangle$.  By applying this same operator on $|s\\rangle$, we achieve the reverse result:\n",
    "\n",
    "$$ H^{\\otimes N} |s\\rangle = |00...0\\rangle $$\n",
    "\n",
    "Thus, the first step in our function is to apply All(H) | qureg.\n",
    "\n",
    "Next, we want to perform a reflection about the state |$00...0\\rangle$: \n",
    "\n",
    "$$|00...0\\rangle \\rightarrow -|00...0\\rangle$$\n",
    "\n",
    "To do this, we invoke a series of steps similar to the oracle function.  First, we apply X gates to all the qubits in the system (All(X) | qureg).  This maps our state |$00...0\\rangle \\rightarrow$ |$11...1\\rangle$ (along with mapping all of the other states in the system accordingly).  Then, we use a CNOT gate that calls all of the qubits in qureg expect the final one, as the control, and the last qubit as the target.  Specifically, the target qubit gets acted on by a Z gate, which is defined as follows:\n",
    "\n",
    "$$ Z|0\\rangle \\rightarrow |0\\rangle $$\n",
    "$$ Z|1\\rangle \\rightarrow -|1\\rangle $$\n",
    "\n",
    "The line of code 'with Control(eng,qureg[0:-1]):' will call upon exactly two states in the system, in the following way:\n",
    "\n",
    "$$ |11...11\\rangle \\rightarrow -|11...11\\rangle $$\n",
    "$$ |11...10\\rangle \\rightarrow |11...10\\rangle $$\n",
    "\n",
    "Thus, our CNOT operation achieves the desired result of applying a negative phase shift (reflection about the state).  Then, since we initially transformed all of the states will X gates, we need to map them back with an All(X) | qureg.  In summary, we achieve step 2 of the Grover diffusion operator as follows:\n",
    "\n",
    "$$ |00...0\\rangle \\rightarrow |11...1\\rangle \\rightarrow -|11...1\\rangle \\rightarrow -|00...0\\rangle  $$\n",
    "\n",
    "And lastly, step 3 is mapping back to our original basis, which we achieve by appying $H^{\\otimes N}$ to the system: All(H) | qureg"
   ]
  },
  {
   "cell_type": "markdown",
   "metadata": {},
   "source": [
    "## Implementing The Grover Search\n",
    "---\n",
    "\n",
    "We now have everything needed to implement a Grover Search on a $2^{N}$ sized system.  The actual flow of a Grover Search involves applying the $U_w$ and $U_s$ operators $O(\\sqrt{2^{N}})$ times, and then making a measurement.  Specifially, the optimal number of repetitions is ~$\\frac{\\pi}{4}\\sqrt{2^{N}}$.\n",
    "\n",
    "Our complete Grover Search code is as follows:"
   ]
  },
  {
   "cell_type": "code",
   "execution_count": 36,
   "metadata": {},
   "outputs": [
    {
     "name": "stdout",
     "output_type": "stream",
     "text": [
      "(Note: This is the (slow) Python simulator.)\n",
      "Measured State:  11\n"
     ]
    }
   ],
   "source": [
    "N = 4\n",
    "Xo = 11\n",
    "marked = Binary_State(Xo,N)\n",
    "steps = int( (math.pi/4)*math.sqrt(2**N) )\n",
    "\n",
    "eng5 = Q.MainEngine()\n",
    "qureg5 = eng5.allocate_qureg(N)\n",
    "All(H) | qureg5\n",
    "\n",
    "ancil5 = eng5.allocate_qubit()\n",
    "X | ancil5\n",
    "H | ancil5\n",
    "\n",
    "with Loop(eng5,steps):\n",
    "    Oracle(eng5,qureg5,ancil5,marked)\n",
    "    Grover_Diffusion(eng5,qureg5)   \n",
    "\n",
    "Measure | ancil5\n",
    "All(Measure) | qureg5\n",
    "eng5.flush()\n",
    "\n",
    "state = np.zeros(N)\n",
    "for j in np.arange(N):\n",
    "    state[j] = int(qureg5[j])\n",
    "\n",
    "print(\"Measured State: \",State_Number(state))"
   ]
  },
  {
   "cell_type": "markdown",
   "metadata": {},
   "source": [
    "With high probability, the above code will measure the marked state, the desired result for a Grover Search.\n",
    "\n",
    "In order to appreciate these high probabilities, we can run many experiments and plot the results:"
   ]
  },
  {
   "cell_type": "code",
   "execution_count": 38,
   "metadata": {},
   "outputs": [
    {
     "name": "stdout",
     "output_type": "stream",
     "text": [
      "(Note: This is the (slow) Python simulator.)\n"
     ]
    },
    {
     "data": {
      "image/png": "[encoded data removed]",
      "text/plain": [
       "<Figure size 432x288 with 1 Axes>"
      ]
     },
     "metadata": {},
     "output_type": "display_data"
    }
   ],
   "source": [
    "def Grover_Search(eng,qureg,ancil,N,state):\n",
    "    '''\n",
    "    Takes in Main Engine (eng), quantum register (qureg), ancilla qubit (ancil), number of qubits (N), and the desired state (state)\n",
    "    Returns quantum system (qureg and ancil) after performing the Grover Algorithm after an optimal number of steps\n",
    "    '''\n",
    "    marked = Binary_State(state,N)\n",
    "    steps = int( (math.pi/4)*math.sqrt(2**N) )\n",
    "    \n",
    "    All(H) | qureg\n",
    "    X | ancil\n",
    "    H | ancil\n",
    "    \n",
    "    with Loop(eng,steps):\n",
    "        Oracle(eng,qureg,ancil,marked)\n",
    "        Grover_Diffusion(eng,qureg)\n",
    "    return qureg,ancil\n",
    "        \n",
    "#-------------- Running The Code ---------------\n",
    "\n",
    "N = 3\n",
    "Xo = 2\n",
    "shots = 250\n",
    "Measurement_Results = np.zeros(shots)\n",
    "\n",
    "eng6 = Q.MainEngine()\n",
    "for i in np.arange(shots):\n",
    "    qureg6 = eng6.allocate_qureg(N)\n",
    "    ancil6 = eng6.allocate_qubit()\n",
    "\n",
    "    qureg6,ancil6 = Grover_Search(eng6,qureg6,ancil6,N,Xo) \n",
    "\n",
    "    Measure | ancil6\n",
    "    All(Measure) | qureg6\n",
    "    eng6.flush()\n",
    "\n",
    "    state = np.zeros(N)\n",
    "    for j in np.arange(N):\n",
    "        state[j] = int(qureg6[j])\n",
    "    Measurement_Results[i] = State_Number(state)\n",
    "\n",
    "bins_plot = Bins(2**N)\n",
    "plt.hist(Measurement_Results,bins_plot,rwidth=0.75)\n",
    "plt.show()"
   ]
  },
  {
   "cell_type": "markdown",
   "metadata": {},
   "source": [
    "This concludes our implementation of the Grover Algorithm into Python code!  I encourage anyone to keep playing around with the code, generating all kinds of results, and really getting a feel for the power of this algorithm."
   ]
  },
  {
   "cell_type": "markdown",
   "metadata": {},
   "source": [
    "## Acknowledgements\n",
    "---\n",
    "\n",
    "Special thanks to the team that created Project Q, and all of the great code they put together for writing quantum algorithms in Python\n",
    "\n",
    "Author: Daniel Koch - dkochsjsu@gmail.com\n",
    "\n",
    "Collaborator: Dov Fields, Hunter College - New York City"
   ]
  },
  {
   "cell_type": "code",
   "execution_count": null,
   "metadata": {},
   "outputs": [],
   "source": []
  }
 ],
 "metadata": {
  "kernelspec": {
   "display_name": "Python 3",
   "language": "python",
   "name": "python3"
  },
  "language_info": {
   "codemirror_mode": {
    "name": "ipython",
    "version": 3
   },
   "file_extension": ".py",
   "mimetype": "text/x-python",
   "name": "python",
   "nbconvert_exporter": "python",
   "pygments_lexer": "ipython3",
   "version": "3.6.5"
  }
 },
 "nbformat": 4,
 "nbformat_minor": 2
}
