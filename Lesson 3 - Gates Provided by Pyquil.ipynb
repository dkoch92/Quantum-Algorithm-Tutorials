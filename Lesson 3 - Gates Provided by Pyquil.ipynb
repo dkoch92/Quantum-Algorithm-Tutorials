{
 "cells": [
  {
   "cell_type": "markdown",
   "metadata": {},
   "source": [
    "# Lesson 3 - Gates Provided by Pyquil"
   ]
  },
  {
   "cell_type": "markdown",
   "metadata": {},
   "source": [
    "-----\n",
    "\n",
    "This goal of this lesson is to introduce the user to the pre-defined gates that come from the pyquil.gates file.  We go through each gate with a short explination, as well as at least one working example for each.  \n",
    "\n",
    "After going through all of the gates, we will cover how Pyquil allows us to define and use our own gates.\n",
    "\n",
    "Before proceeding, please consider reading the previous lessons in this series, which covers all of the pyquil basics of programs and measurements in Pyquil:\n",
    "\n",
    "Lesson 1 - Intro to Programs and Measurements\n",
    "Lesson 2 - Creating More Complex Programs\n",
    "\n",
    "https://github.com/dkoch92/Quantum-Algorithm-Tutorials\n",
    "\n",
    "---\n",
    "\n",
    "If you wish to skip around this lesson for the examples of code, please run the following cell of code below to ensure all functions are imported properly:"
   ]
  },
  {
   "cell_type": "code",
   "execution_count": 306,
   "metadata": {},
   "outputs": [],
   "source": [
    "import numpy as np\n",
    "from pyquil.quil import Program\n",
    "from pyquil.gates import I, H, X, Y, Z, S, T, PHASE, RX, RY, RZ, CNOT, CZ, CPHASE, CPHASE10, CPHASE01, CPHASE00, SWAP, ISWAP, CSWAP, CCNOT\n",
    "from pyquil.api import QVMConnection\n",
    "\n",
    "def SD(qubit_index,total_qubits):\n",
    "    standard = abs( qubit_index - (total_qubits-1) )\n",
    "    return standard\n",
    "\n",
    "qvm = QVMConnection()"
   ]
  },
  {
   "cell_type": "markdown",
   "metadata": {},
   "source": [
    "-------\n",
    "# Single Qubit Gates\n",
    "-------\n",
    "\n",
    "All of the following gates act on a single qubit.\n",
    "\n",
    "## I\n",
    "\n",
    "The single qubit Identity Gate\n",
    "\n",
    "$$\n",
    "\\begin{bmatrix} \n",
    "1 & 0\\\\ \n",
    "0 & 1\n",
    "\\end{bmatrix}\n",
    "$$\n",
    "\n",
    "The effect of this gate renders the qubit's state unchanged."
   ]
  },
  {
   "cell_type": "code",
   "execution_count": 256,
   "metadata": {},
   "outputs": [
    {
     "name": "stdout",
     "output_type": "stream",
     "text": [
      "Initial State:  (1+0j)|0>\n",
      "Identity:  (1+0j)|0>\n"
     ]
    }
   ],
   "source": [
    "from pyquil.gates import I\n",
    "\n",
    "p_I = Program()\n",
    "print('Initial State: ',qvm.wavefunction(p_I))\n",
    "p_I.inst(I(0))\n",
    "print('Identity: ',qvm.wavefunction(p_I))"
   ]
  },
  {
   "cell_type": "markdown",
   "metadata": {},
   "source": [
    "## Hadamard (H)\n",
    "\n",
    "The single qubit Identity Gate\n",
    "\n",
    "$$\n",
    "\\begin{bmatrix} \n",
    "1 & 1\\\\ \n",
    "1 & -1\n",
    "\\end{bmatrix}\n",
    "$$\n",
    "\n",
    "The effect of this gate is as follows:\n",
    "\n",
    "$$\\textbf{H} |0\\rangle = \\frac{1}{\\sqrt{2}}(|0\\rangle + |1\\rangle)$$\n",
    "\n",
    "$$\\textbf{H} |1\\rangle = \\frac{1}{\\sqrt{2}}(|0\\rangle - |1\\rangle)$$\n",
    "\n",
    "This gate results in a qubit being in a 50 / 50 superposition of states |$0\\rangle$ and |$1\\rangle$."
   ]
  },
  {
   "cell_type": "code",
   "execution_count": 182,
   "metadata": {},
   "outputs": [
    {
     "name": "stdout",
     "output_type": "stream",
     "text": [
      "H on |0>:  (0.7071067812+0j)|0> + (0.7071067812+0j)|1>\n",
      "H on |1>:  (0.7071067812+0j)|0> + (-0.7071067812+0j)|1>\n"
     ]
    }
   ],
   "source": [
    "from pyquil.gates import H, X\n",
    "\n",
    "p_H = Program(H(0))\n",
    "print('H on |0>: ',qvm.wavefunction(p_H))\n",
    "p_H = Program(X(0),H(0))\n",
    "print('H on |1>: ',qvm.wavefunction(p_H))"
   ]
  },
  {
   "cell_type": "markdown",
   "metadata": {},
   "source": [
    "# Pauli Operators\n",
    "------"
   ]
  },
  {
   "cell_type": "markdown",
   "metadata": {},
   "source": [
    "## X\n",
    "\n",
    "$$\n",
    "\\begin{bmatrix} \n",
    "0 & 1\\\\ \n",
    "1 & 0\n",
    "\\end{bmatrix}\n",
    "$$\n",
    "\n",
    "The effect of this gate flip's a qubits |0$\\rangle$ and |1$\\rangle$ amplitudes"
   ]
  },
  {
   "cell_type": "code",
   "execution_count": 174,
   "metadata": {},
   "outputs": [
    {
     "name": "stdout",
     "output_type": "stream",
     "text": [
      "Initial qubit 0:  (1+0j)|0>\n",
      "X on qubit 0:  (1+0j)|1>\n",
      "H on qubit 0:  (0.7071067812+0j)|0> + (-0.7071067812+0j)|1>\n",
      "X on qubit 0:  (-0.7071067812+0j)|0> + (0.7071067812+0j)|1>\n",
      "H on qubit 0:  (-1+0j)|1>\n"
     ]
    }
   ],
   "source": [
    "from pyquil.gates import X\n",
    "p_X = Program()\n",
    "print('Initial qubit 0: ',qvm.wavefunction(p_X))\n",
    "p_X.inst(X(0))\n",
    "print('X on qubit 0: ',qvm.wavefunction(p_X))\n",
    "p_X.inst(H(0))\n",
    "print('H on qubit 0: ',qvm.wavefunction(p_X))\n",
    "p_X.inst(X(0))\n",
    "print('X on qubit 0: ',qvm.wavefunction(p_X))\n",
    "p_X.inst(H(0))\n",
    "print('H on qubit 0: ',qvm.wavefunction(p_X))"
   ]
  },
  {
   "cell_type": "markdown",
   "metadata": {},
   "source": [
    "## Y\n",
    "\n",
    "$$\n",
    "\\begin{bmatrix} \n",
    "0 & -i\\\\ \n",
    "i & 0\n",
    "\\end{bmatrix}\n",
    "$$\n",
    "\n",
    "The effect of this gate flip's a qubits |0$\\rangle$ and |1$\\rangle$ amplitudes and multiplys by imaginary numbers (phase)"
   ]
  },
  {
   "cell_type": "code",
   "execution_count": 173,
   "metadata": {},
   "outputs": [
    {
     "name": "stdout",
     "output_type": "stream",
     "text": [
      "Initial qubit 0:  (1+0j)|0>\n",
      "Y on qubit 0:  1j|1>\n",
      "H on qubit 0:  0.7071067812j|0> + -0.7071067812j|1>\n",
      "Y on qubit 0:  (-0.7071067812+0j)|0> + (-0.7071067812+0j)|1>\n",
      "H on qubit 0:  (-1+0j)|0>\n"
     ]
    }
   ],
   "source": [
    "from pyquil.gates import Y\n",
    "p_Y = Program()\n",
    "print('Initial qubit 0: ',qvm.wavefunction(p_Y))\n",
    "p_Y.inst(Y(0))\n",
    "print('Y on qubit 0: ',qvm.wavefunction(p_Y))\n",
    "p_Y.inst(H(0))\n",
    "print('H on qubit 0: ',qvm.wavefunction(p_Y))\n",
    "p_Y.inst(Y(0))\n",
    "print('Y on qubit 0: ',qvm.wavefunction(p_Y))\n",
    "p_Y.inst(H(0))\n",
    "print('H on qubit 0: ',qvm.wavefunction(p_Y))"
   ]
  },
  {
   "cell_type": "markdown",
   "metadata": {},
   "source": [
    "## Z\n",
    "\n",
    "$$\n",
    "\\begin{bmatrix} \n",
    "1 & 0\\\\ \n",
    "0 & -1\n",
    "\\end{bmatrix}\n",
    "$$\n",
    "\n",
    "The effect of this gate leaves a qubit's |0$\\rangle$ amplitude unchanged, while multiplying by -1 (phase) to a qubit's |1$\\rangle$ amplitude."
   ]
  },
  {
   "cell_type": "code",
   "execution_count": 177,
   "metadata": {},
   "outputs": [
    {
     "name": "stdout",
     "output_type": "stream",
     "text": [
      "Initial qubit 0:  (1+0j)|0>\n",
      "Z on qubit 0:  (1+0j)|0>\n",
      "H on qubit 0:  (0.7071067812+0j)|0> + (0.7071067812+0j)|1>\n",
      "Z on qubit 0:  (0.7071067812+0j)|0> + (-0.7071067812+0j)|1>\n",
      "H on qubit 0:  (1+0j)|1>\n"
     ]
    }
   ],
   "source": [
    "from pyquil.gates import Z\n",
    "p_Z = Program()\n",
    "print('Initial qubit 0: ',qvm.wavefunction(p_Z))\n",
    "p_Z.inst(Z(0))\n",
    "print('Z on qubit 0: ',qvm.wavefunction(p_Z))\n",
    "p_Z.inst(H(0))\n",
    "print('H on qubit 0: ',qvm.wavefunction(p_Z))\n",
    "p_Z.inst(Z(0))\n",
    "print('Z on qubit 0: ',qvm.wavefunction(p_Z))\n",
    "p_Z.inst(H(0))\n",
    "print('H on qubit 0: ',qvm.wavefunction(p_Z))"
   ]
  },
  {
   "cell_type": "markdown",
   "metadata": {},
   "source": [
    "# Phase Gates\n",
    "------"
   ]
  },
  {
   "cell_type": "markdown",
   "metadata": {},
   "source": [
    "## PHASE  (R$_{\\phi}$)\n",
    "\n",
    "$$\n",
    "\\begin{bmatrix} \n",
    "1 & 0\\\\ \n",
    "0 & e^{i\\phi}\n",
    "\\end{bmatrix}\n",
    "$$\n",
    "\n",
    "A gate similar to the Z gate.  It leaves a qubit's |0$\\rangle$ amplitude unchanged, while multiplying by a phase $e^{i\\phi}$ to a qubit's |1$\\rangle$ amplitude."
   ]
  },
  {
   "cell_type": "code",
   "execution_count": 191,
   "metadata": {},
   "outputs": [
    {
     "name": "stdout",
     "output_type": "stream",
     "text": [
      "phi = pi -- this is equivilant to a Z gate\n",
      "  \n",
      "Initial Mixed State:  (0.7071067812+0j)|0> + (0.7071067812+0j)|1>\n",
      "S Gate:  (0.7071067812+0j)|0> + (-0.7071067812+0j)|1>\n",
      "S Gate:  (0.7071067812+0j)|0> + (0.7071067812+0j)|1>\n"
     ]
    }
   ],
   "source": [
    "import math as m\n",
    "from pyquil.gates import PHASE\n",
    "phi = m.pi\n",
    "print('phi = pi -- this is equivilant to a Z gate')\n",
    "print('  ')\n",
    "p_Rp = Program(H(0))\n",
    "print('Initial Mixed State: ',qvm.wavefunction(p_Rp))\n",
    "p_Rp.inst(PHASE(phi,0))\n",
    "print('S Gate: ',qvm.wavefunction(p_Rp))\n",
    "p_Rp.inst(PHASE(phi,0))\n",
    "print('S Gate: ',qvm.wavefunction(p_Rp))"
   ]
  },
  {
   "cell_type": "markdown",
   "metadata": {},
   "source": [
    "## S\n",
    "\n",
    "A pre-defined gate for R$_{\\phi}$, $\\phi$=$\\frac{\\pi}{2}$\n",
    "\n",
    "$$\n",
    "\\begin{bmatrix} \n",
    "1 & 0\\\\ \n",
    "0 & i\n",
    "\\end{bmatrix}\n",
    "$$\n",
    "\n",
    "A gate similar to the Z gate.  It leaves a qubit's |0$\\rangle$ amplitude unchanged, while multiplying by i (phase) to a qubit's |1$\\rangle$ amplitude."
   ]
  },
  {
   "cell_type": "code",
   "execution_count": 187,
   "metadata": {},
   "outputs": [
    {
     "name": "stdout",
     "output_type": "stream",
     "text": [
      "Initial Mixed State:  (0.7071067812+0j)|0> + (0.7071067812+0j)|1>\n",
      "S Gate:  (0.7071067812+0j)|0> + 0.7071067812j|1>\n",
      "S Gate:  (0.7071067812+0j)|0> + (-0.7071067812+0j)|1>\n"
     ]
    }
   ],
   "source": [
    "from pyquil.gates import S\n",
    "p_S = Program(H(0))\n",
    "print('Initial Mixed State: ',qvm.wavefunction(p_S))\n",
    "p_S.inst(S(0))\n",
    "print('S Gate: ',qvm.wavefunction(p_S))\n",
    "p_S.inst(S(0))\n",
    "print('S Gate: ',qvm.wavefunction(p_S))"
   ]
  },
  {
   "cell_type": "markdown",
   "metadata": {},
   "source": [
    "## T\n",
    "\n",
    "A pre-defined gate for R$_{\\phi}$, $\\phi$=$\\frac{\\pi}{4}$\n",
    "\n",
    "$$\n",
    "\\begin{bmatrix} \n",
    "1 & 0\\\\ \n",
    "0 & e^{i\\frac{\\pi}{4}}\n",
    "\\end{bmatrix}\n",
    "$$\n",
    "\n",
    "A gate similar to the Z gate.  It leaves a qubit's |0$\\rangle$ amplitude unchanged, while multiplying by $e^{i\\frac{\\pi}{4}}$ (phase) to a qubit's |1$\\rangle$ amplitude."
   ]
  },
  {
   "cell_type": "code",
   "execution_count": 188,
   "metadata": {},
   "outputs": [
    {
     "name": "stdout",
     "output_type": "stream",
     "text": [
      "Initial State:  (1+0j)|1>\n",
      "S Gate:  (0.7071067812+0.7071067812j)|1>\n",
      "S Gate:  1j|1>\n"
     ]
    }
   ],
   "source": [
    "from pyquil.gates import T\n",
    "p_T = Program(X(0))\n",
    "print('Initial State: ',qvm.wavefunction(p_T))\n",
    "p_T.inst(T(0))\n",
    "print('T Gate: ',qvm.wavefunction(p_T))\n",
    "p_T.inst(T(0))\n",
    "print('T Gate: ',qvm.wavefunction(p_T))"
   ]
  },
  {
   "cell_type": "markdown",
   "metadata": {},
   "source": [
    "# Rotation Gates\n",
    "-------"
   ]
  },
  {
   "cell_type": "markdown",
   "metadata": {},
   "source": [
    "The follow gates all represent rotations of a state on a Bloch spehere.  A Bloch sphere is a visual representation that maps the state of a qubit to a location on the surface of a sphere, radius = 1.  An image of a Bloch sphere and it's axes is given below:\n",
    "![title](Bloch_Sphere.png)"
   ]
  },
  {
   "cell_type": "markdown",
   "metadata": {},
   "source": [
    "## R$_x$($\\theta$)\n",
    "\n",
    "A rotation gate, representing a rotation around the x-axis on a Bloch Sphere\n",
    "\n",
    "$$\n",
    "\\begin{bmatrix} \n",
    "cos(\\frac{\\theta}{2}) & -i \\cdot sin(\\frac{\\theta}{2})\\\\ \n",
    "-i \\cdot sin(\\frac{\\theta}{2}) & cos(\\frac{\\theta}{2})\n",
    "\\end{bmatrix}\n",
    "$$\n"
   ]
  },
  {
   "cell_type": "code",
   "execution_count": 219,
   "metadata": {},
   "outputs": [
    {
     "name": "stdout",
     "output_type": "stream",
     "text": [
      "Initial State:  (1+0j)|0>    = |0>\n",
      "theta = pi/2 -- rotations by 90 degrees around the x-axis (counter-clockwise)\n",
      "  \n",
      "Rx(90) Gate:  (0.7071067812+0j)|0> + -0.7071067812j|1>    = -Y\n",
      "Rx(90) Gate:  -1j|1>    = |1>\n",
      "Rx(90) Gate:  (-0.7071067812+0j)|0> + -0.7071067812j|1>    = Y\n",
      "Rx(90) Gate:  (-1+0j)|0>    = |0>\n"
     ]
    }
   ],
   "source": [
    "from pyquil.gates import RX\n",
    "theta = m.pi/2\n",
    "p_Rx = Program()\n",
    "print('Initial State: ',qvm.wavefunction(p_Rx),'   = |0>')\n",
    "print('theta = pi/2 -- rotations by 90 degrees around the x-axis (counter-clockwise)')\n",
    "print('  ')\n",
    "p_Rx.inst(RX(theta,0))\n",
    "print('Rx(90) Gate: ',qvm.wavefunction(p_Rx),'   = -Y')\n",
    "p_Rx.inst(RX(theta,0))\n",
    "print('Rx(90) Gate: ',qvm.wavefunction(p_Rx),'   = |1>')\n",
    "p_Rx.inst(RX(theta,0))\n",
    "print('Rx(90) Gate: ',qvm.wavefunction(p_Rx),'   = Y')\n",
    "p_Rx.inst(RX(theta,0))\n",
    "print('Rx(90) Gate: ',qvm.wavefunction(p_Rx),'   = |0>')"
   ]
  },
  {
   "cell_type": "markdown",
   "metadata": {},
   "source": [
    "## R$_y$($\\theta$)\n",
    "\n",
    "A rotation gate, representing a rotation around the y-axis on a Bloch Sphere\n",
    "\n",
    "$$\n",
    "\\begin{bmatrix} \n",
    "cos(\\frac{\\theta}{2}) & -sin(\\frac{\\theta}{2})\\\\ \n",
    "sin(\\frac{\\theta}{2}) & cos(\\frac{\\theta}{2})\n",
    "\\end{bmatrix}\n",
    "$$\n"
   ]
  },
  {
   "cell_type": "code",
   "execution_count": 220,
   "metadata": {},
   "outputs": [
    {
     "name": "stdout",
     "output_type": "stream",
     "text": [
      "Initial State:  (1+0j)|0>    = |0>\n",
      "theta = pi/2 -- rotations by 90 degrees around the y-axis (counter-clockwise)\n",
      "  \n",
      "Ry(90) Gate:  (0.7071067812+0j)|0> + (0.7071067812+0j)|1>    = X\n",
      "Ry(90) Gate:  (1+0j)|1>    = |1>\n",
      "Ry(90) Gate:  (-0.7071067812+0j)|0> + (0.7071067812+0j)|1>    = -X\n",
      "Ry(90) Gate:  (-1+0j)|0>    = |0>\n"
     ]
    }
   ],
   "source": [
    "from pyquil.gates import RY\n",
    "theta = m.pi/2\n",
    "p_Ry = Program()\n",
    "print('Initial State: ',qvm.wavefunction(p_Ry),'   = |0>')\n",
    "print('theta = pi/2 -- rotations by 90 degrees around the y-axis (counter-clockwise)')\n",
    "print('  ')\n",
    "p_Ry.inst(RY(theta,0))\n",
    "print('Ry(90) Gate: ',qvm.wavefunction(p_Ry),'   = X')\n",
    "p_Ry.inst(RY(theta,0))\n",
    "print('Ry(90) Gate: ',qvm.wavefunction(p_Ry),'   = |1>')\n",
    "p_Ry.inst(RY(theta,0))\n",
    "print('Ry(90) Gate: ',qvm.wavefunction(p_Ry),'   = -X')\n",
    "p_Ry.inst(RY(theta,0))\n",
    "print('Ry(90) Gate: ',qvm.wavefunction(p_Ry),'   = |0>')\n"
   ]
  },
  {
   "cell_type": "markdown",
   "metadata": {},
   "source": [
    "## R$_z$($\\theta$)\n",
    "\n",
    "A rotation gate, representing a rotation around the z-axis on a Bloch Sphere\n",
    "\n",
    "$$\n",
    "\\begin{bmatrix} \n",
    "e^{\\frac{-i\\theta}{2}} & 0\\\\ \n",
    "0 & e^{\\frac{i\\theta}{2}}\n",
    "\\end{bmatrix}\n",
    "$$\n"
   ]
  },
  {
   "cell_type": "code",
   "execution_count": 228,
   "metadata": {},
   "outputs": [
    {
     "name": "stdout",
     "output_type": "stream",
     "text": [
      "Initial State:  (0.7071067812+0j)|0> + (0.7071067812+0j)|1>  = X\n",
      "theta = pi -- rotations by 90 degrees around the z-axis (counter-clockwise)\n",
      "  \n",
      "Rz(90) Gate:  (0.5-0.5j)|0> + (0.5+0.5j)|1>    = Y\n",
      "Rz(90) Gate:  -0.7071067812j|0> + 0.7071067812j|1>    = -X\n",
      "Rz(90) Gate:  (-0.5-0.5j)|0> + (-0.5+0.5j)|1>    = -Y\n",
      "Rz(90) Gate:  (-0.7071067812+0j)|0> + (-0.7071067812+0j)|1>    = X\n"
     ]
    }
   ],
   "source": [
    "from pyquil.gates import RZ\n",
    "theta = m.pi/2\n",
    "p_Rz = Program(H(0))\n",
    "print('Initial State: ',qvm.wavefunction(p_Rz),' = X')\n",
    "print('theta = pi -- rotations by 90 degrees around the z-axis (counter-clockwise)')\n",
    "print('  ')\n",
    "p_Rz.inst(RZ(theta,0))\n",
    "print('Rz(90) Gate: ',qvm.wavefunction(p_Rz),'   = Y')\n",
    "p_Rz.inst(RZ(theta,0))\n",
    "print('Rz(90) Gate: ',qvm.wavefunction(p_Rz),'   = -X')\n",
    "p_Rz.inst(RZ(theta,0))\n",
    "print('Rz(90) Gate: ',qvm.wavefunction(p_Rz),'   = -Y')\n",
    "p_Rz.inst(RZ(theta,0))\n",
    "print('Rz(90) Gate: ',qvm.wavefunction(p_Rz),'   = X')"
   ]
  },
  {
   "cell_type": "markdown",
   "metadata": {},
   "source": [
    "# Two Qubit Control Gates\n",
    "---------\n",
    "\n",
    "All of the following gates act on 2 qubits."
   ]
  },
  {
   "cell_type": "markdown",
   "metadata": {},
   "source": [
    "## CNOT\n",
    "\n",
    "This gate uses a 'target qubit' and a 'control qubit'.  The effect of this gate is as follows:\n",
    "\n",
    "$$\\textbf{CNOT} \\hspace{.2cm} |00\\rangle \\hspace{.25cm} \\rightarrow \\hspace{.25cm} |00\\rangle $$\n",
    "$$\\textbf{CNOT} \\hspace{.2cm} |01\\rangle \\hspace{.25cm} \\rightarrow \\hspace{.25cm} |01\\rangle $$\n",
    "$$\\textbf{CNOT} \\hspace{.2cm} |10\\rangle \\hspace{.25cm} \\rightarrow \\hspace{.25cm} |11\\rangle $$\n",
    "$$\\textbf{CNOT} \\hspace{.2cm} |11\\rangle \\hspace{.25cm} \\rightarrow \\hspace{.25cm} |10\\rangle $$\n",
    "\n",
    "In this notation, the first qubit is the control and the second qubit is the target.  If the first qubit is in the state |$0\\rangle$, nothing happens to the second qubit.  If the first qubit is in the state |$1\\rangle$, then the amplitudes of the second qubit are flipped.\n",
    "\n",
    "Another way to think of this gate is as a 'control-X' gate, where the state of the control qubit determines whether or not an X gate is applied to the target qubit.\n",
    "\n",
    "$$\n",
    "\\begin{bmatrix} \n",
    "1 & 0 & 0 & 0\\\\ \n",
    "0 & 1 & 0 & 0\\\\ \n",
    "0 & 0 & 0 & 1\\\\ \n",
    "0 & 0 & 1 & 0\\\\ \n",
    "\\end{bmatrix}\n",
    "$$\n"
   ]
  },
  {
   "cell_type": "code",
   "execution_count": 240,
   "metadata": {},
   "outputs": [
    {
     "name": "stdout",
     "output_type": "stream",
     "text": [
      "Initial State:  (1+0j)|00>\n",
      "After CNOT:  (1+0j)|00>\n",
      "  \n",
      "Initial State:  (1+0j)|10>\n",
      "After CNOT:  (1+0j)|11>\n",
      "  \n",
      "Initial State:  (1+0j)|01>\n",
      "After CNOT:  (1+0j)|01>\n",
      "  \n",
      "Initial State:  (1+0j)|11>\n",
      "After CNOT:  (1+0j)|10>\n",
      "  \n"
     ]
    }
   ],
   "source": [
    "from pyquil.gates import CNOT\n",
    "control_qubit = SD(0,2)\n",
    "target_qubit  = SD(1,2)\n",
    "\n",
    "p_CNOT = Program(I(control_qubit),I(target_qubit))\n",
    "print('Initial State: ',qvm.wavefunction(p_CNOT))\n",
    "p_CNOT.inst(CNOT(control_qubit,target_qubit))\n",
    "print('After CNOT: ',qvm.wavefunction(p_CNOT))\n",
    "print('  ')\n",
    "\n",
    "p_CNOT = Program(X(control_qubit),I(target_qubit))\n",
    "print('Initial State: ',qvm.wavefunction(p_CNOT))\n",
    "p_CNOT.inst(CNOT(control_qubit,target_qubit))\n",
    "print('After CNOT: ',qvm.wavefunction(p_CNOT))\n",
    "print('  ')\n",
    "\n",
    "p_CNOT = Program(I(control_qubit),X(target_qubit))\n",
    "print('Initial State: ',qvm.wavefunction(p_CNOT))\n",
    "p_CNOT.inst(CNOT(control_qubit,target_qubit))\n",
    "print('After CNOT: ',qvm.wavefunction(p_CNOT))\n",
    "print('  ')\n",
    "\n",
    "p_CNOT = Program(X(control_qubit),X(target_qubit))\n",
    "print('Initial State: ',qvm.wavefunction(p_CNOT))\n",
    "p_CNOT.inst(CNOT(control_qubit,target_qubit))\n",
    "print('After CNOT: ',qvm.wavefunction(p_CNOT))\n",
    "print('  ')"
   ]
  },
  {
   "cell_type": "markdown",
   "metadata": {},
   "source": [
    "The code above confirms the effect of the CNOT gate.  But this effect also applies to mixed states (which is where it's power comes from in more complex algorithms):"
   ]
  },
  {
   "cell_type": "code",
   "execution_count": 241,
   "metadata": {},
   "outputs": [
    {
     "name": "stdout",
     "output_type": "stream",
     "text": [
      "Initial State:  (0.7071067812+0j)|00> + (-0.7071067812+0j)|10>\n",
      "After CNOT:  (0.7071067812+0j)|00> + (-0.7071067812+0j)|11>\n",
      "  \n"
     ]
    }
   ],
   "source": [
    "from pyquil.gates import CNOT\n",
    "control_qubit = SD(0,2)\n",
    "target_qubit  = SD(1,2)\n",
    "\n",
    "p_CNOT = Program(X(control_qubit),H(control_qubit),I(target_qubit))\n",
    "print('Initial State: ',qvm.wavefunction(p_CNOT))\n",
    "p_CNOT.inst(CNOT(control_qubit,target_qubit))\n",
    "print('After CNOT: ',qvm.wavefunction(p_CNOT))\n",
    "print('  ')"
   ]
  },
  {
   "cell_type": "markdown",
   "metadata": {},
   "source": [
    "## CZ (Control-Z)\n",
    "\n",
    "The control-Z gate works similarly to the CNOT gate, only instead of flipping the target qubit (applying an X gate), we apply a Z gate.\n",
    "\n",
    "$$\\textbf{CZ} \\hspace{.2cm} |00\\rangle \\hspace{.25cm} \\rightarrow \\hspace{.25cm} |00\\rangle $$\n",
    "$$\\textbf{CZ} \\hspace{.2cm} |01\\rangle \\hspace{.25cm} \\rightarrow \\hspace{.25cm} |01\\rangle $$\n",
    "$$\\textbf{CZ} \\hspace{.2cm} |10\\rangle \\hspace{.25cm} \\rightarrow \\hspace{.25cm} |10\\rangle $$\n",
    "$$\\textbf{CZ} \\hspace{.2cm} |11\\rangle \\hspace{.25cm} \\rightarrow \\hspace{.25cm} -|11\\rangle $$\n",
    "\n",
    "Recall that a Z gates leaves a qubit in the state |$0\\rangle$ untouched, while flipping the sign on a qubit in the state |$1\\rangle$.  Thus, the CZ gate only affects the state |$11\\rangle$, as shown above.\n",
    "\n",
    "$$\n",
    "\\begin{bmatrix} \n",
    "1 & 0 & 0 & 0\\\\ \n",
    "0 & 1 & 0 & 0\\\\ \n",
    "0 & 0 & 1 & 0\\\\ \n",
    "0 & 0 & 0 & -1\\\\ \n",
    "\\end{bmatrix}\n",
    "$$"
   ]
  },
  {
   "cell_type": "code",
   "execution_count": 242,
   "metadata": {},
   "outputs": [
    {
     "name": "stdout",
     "output_type": "stream",
     "text": [
      "Initial State:  (0.5+0j)|00> + (0.5+0j)|01> + (0.5+0j)|10> + (0.5+0j)|11>\n",
      "After CZ:  (0.5+0j)|00> + (0.5+0j)|01> + (0.5+0j)|10> + (-0.5+0j)|11>\n"
     ]
    }
   ],
   "source": [
    "from pyquil.gates import CZ\n",
    "control_qubit = SD(0,2)\n",
    "target_qubit  = SD(1,2)\n",
    "\n",
    "p_CZ = Program(H(control_qubit),H(target_qubit))\n",
    "print('Initial State: ',qvm.wavefunction(p_CZ))\n",
    "p_CZ.inst(CZ(control_qubit,target_qubit))\n",
    "print('After CZ: ',qvm.wavefunction(p_CZ))\n"
   ]
  },
  {
   "cell_type": "markdown",
   "metadata": {},
   "source": [
    "## Control Phase Gates\n",
    "\n",
    "The following four gates will be bundled together, since they all represent the same general effect\n",
    "\n",
    "#### CPHASE($\\phi$) |$11\\rangle$\n",
    "\n",
    "$$\n",
    "\\begin{bmatrix} \n",
    "1 & 0 & 0 & 0\\\\ \n",
    "0 & 1 & 0 & 0\\\\ \n",
    "0 & 0 & 1 & 0\\\\ \n",
    "0 & 0 & 0 & e^{i\\phi}\\\\ \n",
    "\\end{bmatrix}\n",
    "$$\n",
    "\n",
    "#### CPHASE($\\phi$) |$10\\rangle$\n",
    "\n",
    "$$\n",
    "\\begin{bmatrix} \n",
    "1 & 0 & 0 & 0\\\\ \n",
    "0 & 1 & 0 & 0\\\\ \n",
    "0 & 0 & e^{i\\phi} & 0\\\\ \n",
    "0 & 0 & 0 & 1\\\\ \n",
    "\\end{bmatrix}\n",
    "$$\n",
    "\n",
    "#### CPHASE($\\phi$) |$01\\rangle$\n",
    "\n",
    "$$\n",
    "\\begin{bmatrix} \n",
    "1 & 0 & 0 & 0\\\\ \n",
    "0 & e^{i\\phi} & 0 & 0\\\\ \n",
    "0 & 0 & 1 & 0\\\\ \n",
    "0 & 0 & 0 & 1\\\\ \n",
    "\\end{bmatrix}\n",
    "$$\n",
    "\n",
    "#### CPHASE($\\phi$) |$00\\rangle$\n",
    "\n",
    "$$\n",
    "\\begin{bmatrix} \n",
    "e^{i\\phi} & 0 & 0 & 0\\\\ \n",
    "0 & 1 & 0 & 0\\\\ \n",
    "0 & 0 & 1 & 0\\\\ \n",
    "0 & 0 & 0 & 1\\\\ \n",
    "\\end{bmatrix}\n",
    "$$\n",
    "\n",
    "\n",
    "By standard convention the CPHASE gate is the one that acts on the state |$11\\rangle$, but all of the gates are the same in principle.  Each of the variations of the CPHASE gate picks out one of the four states and applies a phase operation."
   ]
  },
  {
   "cell_type": "code",
   "execution_count": 287,
   "metadata": {},
   "outputs": [
    {
     "name": "stdout",
     "output_type": "stream",
     "text": [
      "phi = pi    --   same effect as a Z gate  \n",
      "_____Initial State:_____\n",
      "(0.5+0j)|00> + (0.5+0j)|01> + (0.5+0j)|10> + (0.5+0j)|11>\n",
      " \n",
      "CPHASE:  (0.5+0j)|00> + (0.5+0j)|01> + (0.5+0j)|10> + (-0.5+0j)|11>\n",
      "CPHASE10:  (0.5+0j)|00> + (0.5+0j)|01> + (-0.5+0j)|10> + (0.5+0j)|11>\n",
      "CPHASE01:  (0.5+0j)|00> + (-0.5+0j)|01> + (0.5+0j)|10> + (0.5+0j)|11>\n",
      "CPHASE00:  (-0.5+0j)|00> + (0.5+0j)|01> + (0.5+0j)|10> + (0.5+0j)|11>\n"
     ]
    }
   ],
   "source": [
    "from pyquil.gates import CPHASE,CPHASE10,CPHASE01,CPHASE00\n",
    "phi = m.pi\n",
    "control_qubit = SD(0,2)\n",
    "target_qubit  = SD(1,2)\n",
    "\n",
    "p_CP11 = Program(H(control_qubit),H(target_qubit))\n",
    "p_CP10 = Program(H(control_qubit),H(target_qubit))\n",
    "p_CP01 = Program(H(control_qubit),H(target_qubit))\n",
    "p_CP00 = Program(H(control_qubit),H(target_qubit))\n",
    "print('phi = pi    --   same effect as a Z gate  ')\n",
    "print('_____Initial State:_____')\n",
    "print(qvm.wavefunction(p_CP11))\n",
    "print(' ')\n",
    "\n",
    "p_CP11.inst(CPHASE(phi,control_qubit,target_qubit))\n",
    "print('CPHASE: ',qvm.wavefunction(p_CP11))\n",
    "p_CP10.inst(CPHASE10(phi,control_qubit,target_qubit))\n",
    "print('CPHASE10: ',qvm.wavefunction(p_CP10))\n",
    "p_CP01.inst(CPHASE01(phi,control_qubit,target_qubit))\n",
    "print('CPHASE01: ',qvm.wavefunction(p_CP01))\n",
    "p_CP00.inst(CPHASE00(phi,control_qubit,target_qubit))\n",
    "print('CPHASE00: ',qvm.wavefunction(p_CP00))\n"
   ]
  },
  {
   "cell_type": "markdown",
   "metadata": {},
   "source": [
    "# Swapping Gates\n",
    "------\n",
    "\n",
    "The following four gates all perform a \"swap\", whereby the states of two qubits are"
   ]
  },
  {
   "cell_type": "markdown",
   "metadata": {},
   "source": [
    "## SWAP\n",
    "\n",
    "The SWAP gate causes two qubits to trade states.\n",
    "\n",
    "$$\\textbf{SWAP} \\hspace{.2cm} |00\\rangle \\hspace{.25cm} \\rightarrow \\hspace{.25cm} |00\\rangle $$\n",
    "$$\\textbf{SWAP} \\hspace{.2cm} |01\\rangle \\hspace{.25cm} \\rightarrow \\hspace{.25cm} |11\\rangle $$\n",
    "$$\\textbf{SWAP} \\hspace{.2cm} |10\\rangle \\hspace{.25cm} \\rightarrow \\hspace{.25cm} |01\\rangle $$\n",
    "$$\\textbf{SWAP} \\hspace{.2cm} |11\\rangle \\hspace{.25cm} \\rightarrow \\hspace{.25cm} |11\\rangle $$\n",
    "\n",
    "A simple way of viewing the effect of this gate is it switches the numbers on each state.  As a result, we can see that the SWAP gate has no effect on the states |$00\\rangle$ and |$11\\rangle$.\n",
    "\n",
    "$$\n",
    "\\begin{bmatrix} \n",
    "1 & 0 & 0 & 0\\\\ \n",
    "0 & 0 & 1 & 0\\\\ \n",
    "0 & 1 & 0 & 0\\\\ \n",
    "0 & 0 & 0 & 1\\\\ \n",
    "\\end{bmatrix}\n",
    "$$"
   ]
  },
  {
   "cell_type": "code",
   "execution_count": 288,
   "metadata": {},
   "outputs": [
    {
     "name": "stdout",
     "output_type": "stream",
     "text": [
      "Initial State:  (0.5+0j)|00> + (0.5+0j)|01> + (-0.5+0j)|10> + (0.5+0j)|11>\n",
      " \n",
      "  SWAP:  (0.5+0j)|00> + (-0.5+0j)|01> + (0.5+0j)|10> + (0.5+0j)|11>\n"
     ]
    }
   ],
   "source": [
    "from pyquil.gates import SWAP\n",
    "qubit0 = SD(0,2)\n",
    "qubit1 = SD(1,2)\n",
    "\n",
    "p_SWAP = Program(H(0),H(1),CPHASE10(m.pi,qubit0,qubit1))\n",
    "print('Initial State: ',qvm.wavefunction(p_SWAP))\n",
    "print(' ')\n",
    "\n",
    "p_SWAP.inst(SWAP(qubit0,qubit1))\n",
    "print('  SWAP: ',qvm.wavefunction(p_SWAP))\n"
   ]
  },
  {
   "cell_type": "markdown",
   "metadata": {},
   "source": [
    "## ISWAP\n",
    "\n",
    "This gate produces a similar effect as the SWAP gate, but applies a a phase operation of $\\textit{i}$ to the swapped states.\n",
    "\n",
    "$$\n",
    "\\begin{bmatrix} \n",
    "1 & 0 & 0 & 0\\\\ \n",
    "0 & 0 & i & 0\\\\ \n",
    "0 & i & 0 & 0\\\\ \n",
    "0 & 0 & 0 & 1\\\\ \n",
    "\\end{bmatrix}\n",
    "$$"
   ]
  },
  {
   "cell_type": "code",
   "execution_count": 271,
   "metadata": {},
   "outputs": [
    {
     "name": "stdout",
     "output_type": "stream",
     "text": [
      "Initial State:  (0.5+0j)|00> + (0.5+0j)|01> + (-0.5+0j)|10> + (0.5+0j)|11>\n",
      " \n",
      "  ISWAP:  (0.5+0j)|00> + (-0-0.5j)|01> + 0.5j|10> + (0.5+0j)|11>\n"
     ]
    }
   ],
   "source": [
    "from pyquil.gates import ISWAP\n",
    "qubit0 = SD(0,2)\n",
    "qubit1 = SD(1,2)\n",
    "\n",
    "p_ISWAP = Program(H(0),H(1),CPHASE10(m.pi,qubit0,qubit1))\n",
    "print('Initial State: ',qvm.wavefunction(p_ISWAP))\n",
    "print(' ')\n",
    "\n",
    "p_ISWAP.inst(ISWAP(qubit0,qubit1))\n",
    "print('  ISWAP: ',qvm.wavefunction(p_ISWAP))"
   ]
  },
  {
   "cell_type": "markdown",
   "metadata": {},
   "source": [
    "## ISWAP($\\phi$)\n",
    "\n",
    "A more general version of the ISWAP gate, whereby one can specify any phase operation to be applied to the swapped states.\n",
    "\n",
    "$$\n",
    "\\begin{bmatrix} \n",
    "1 & 0 & 0 & 0\\\\ \n",
    "0 & 0 & e^{i\\phi} & 0\\\\ \n",
    "0 & e^{i\\phi} & 0 & 0\\\\ \n",
    "0 & 0 & 0 & 1\\\\ \n",
    "\\end{bmatrix}\n",
    "$$"
   ]
  },
  {
   "cell_type": "code",
   "execution_count": 272,
   "metadata": {},
   "outputs": [
    {
     "name": "stdout",
     "output_type": "stream",
     "text": [
      "phi = pi   --   same effect as a -1 phase operation\n",
      "Initial State:  (0.5+0j)|00> + (0.5+0j)|01> + (-0.5+0j)|10> + (0.5+0j)|11>\n",
      " \n",
      "  PSWAP(pi):  (0.5+0j)|00> + (0.5+0j)|01> + (-0.5+0j)|10> + (0.5+0j)|11>\n"
     ]
    }
   ],
   "source": [
    "from pyquil.gates import PSWAP\n",
    "qubit0 = SD(0,2)\n",
    "qubit1 = SD(1,2)\n",
    "phi = m.pi\n",
    "print('phi = pi   --   same effect as a -1 phase operation')\n",
    "\n",
    "p_PSWAP = Program(H(0),H(1),CPHASE10(m.pi,qubit0,qubit1))\n",
    "print('Initial State: ',qvm.wavefunction(p_PSWAP))\n",
    "print(' ')\n",
    "\n",
    "p_PSWAP.inst(PSWAP(phi,qubit0,qubit1))\n",
    "print('  PSWAP(pi): ',qvm.wavefunction(p_PSWAP))"
   ]
  },
  {
   "cell_type": "markdown",
   "metadata": {},
   "source": [
    "# 3 Qubit Control Gates\n",
    "----\n",
    "\n",
    "The following two gates take 3 qubites as inputs.  They are essentially higher order versions of the CNOT and SWAP gates, adding one extra control qubit to each.\n",
    "\n",
    "## CSWAP\n",
    "\n",
    "The control-swap gate uses a control qubit tp determine whether or not to apply a SWAP gate to two target qubits.  If the control qubit is in the state |$1\\rangle$, then a SWAP gate is performed.  Examples:\n",
    "\n",
    "$$\\textbf{CSWAP} \\hspace{.2cm} |010\\rangle \\hspace{.25cm} \\rightarrow \\hspace{.25cm} |010\\rangle $$\n",
    "$$\\textbf{CSWAP} \\hspace{.2cm} |101\\rangle \\hspace{.25cm} \\rightarrow \\hspace{.25cm} |110\\rangle $$\n",
    "$$\\textbf{CSWAP} \\hspace{.2cm} |110\\rangle \\hspace{.25cm} \\rightarrow \\hspace{.25cm} |101\\rangle $$\n",
    "$$\\textbf{CSWAP} \\hspace{.2cm} |111\\rangle \\hspace{.25cm} \\rightarrow \\hspace{.25cm} |111\\rangle $$\n",
    "\n",
    "This gate is also sometimes refered to as a Fredkin Gate.\n",
    "\n",
    "$$\n",
    "\\begin{bmatrix} \n",
    "1 & 0 & 0 & 0 & 0 & 0 & 0 & 0\\\\ \n",
    "0 & 1 & 0 & 0 & 0 & 0 & 0 & 0\\\\ \n",
    "0 & 0 & 1 & 0 & 0 & 0 & 0 & 0\\\\ \n",
    "0 & 0 & 0 & 1 & 0 & 0 & 0 & 0\\\\ \n",
    "0 & 0 & 0 & 0 & 1 & 0 & 0 & 0\\\\ \n",
    "0 & 0 & 0 & 0 & 0 & 0 & 1 & 0\\\\ \n",
    "0 & 0 & 0 & 0 & 0 & 1 & 0 & 0\\\\ \n",
    "0 & 0 & 0 & 0 & 0 & 0 & 0 & 1\\\\ \n",
    "\\end{bmatrix}\n",
    "$$\n"
   ]
  },
  {
   "cell_type": "code",
   "execution_count": 279,
   "metadata": {},
   "outputs": [
    {
     "name": "stdout",
     "output_type": "stream",
     "text": [
      "Initial State:  (0.5+0j)|001> + (0.5+0j)|011> + (0.5+0j)|101> + (0.5+0j)|111>\n",
      " \n",
      "  CSWAP:  (0.5+0j)|001> + (0.5+0j)|011> + (0.5+0j)|110> + (0.5+0j)|111>\n"
     ]
    }
   ],
   "source": [
    "from pyquil.gates import CSWAP\n",
    "control_qubit = SD(0,3)\n",
    "qubit1 = SD(1,3)\n",
    "qubit2 = SD(2,3)\n",
    "\n",
    "p_CSWAP = Program(H(0),H(1),H(2),Z(0),H(0))\n",
    "print('Initial State: ',qvm.wavefunction(p_CSWAP))\n",
    "print(' ')\n",
    "\n",
    "p_CSWAP.inst(CSWAP(control_qubit,qubit1,qubit2))\n",
    "print('  CSWAP: ',qvm.wavefunction(p_CSWAP))"
   ]
  },
  {
   "cell_type": "markdown",
   "metadata": {},
   "source": [
    "## CCNOT\n",
    "\n",
    "The control-control not gate uses two control qubits to determine if an X gate is applied to a single target qubit.  In principle, one can have as many control gates, not just up to two. Examples:\n",
    "\n",
    "$$\\textbf{CCNOT} \\hspace{.2cm} |010\\rangle \\hspace{.25cm} \\rightarrow \\hspace{.25cm} |010\\rangle $$\n",
    "$$\\textbf{CCNOT} \\hspace{.2cm} |101\\rangle \\hspace{.25cm} \\rightarrow \\hspace{.25cm} |101\\rangle $$\n",
    "$$\\textbf{CCNOT} \\hspace{.2cm} |110\\rangle \\hspace{.25cm} \\rightarrow \\hspace{.25cm} |111\\rangle $$\n",
    "$$\\textbf{CCNOT} \\hspace{.2cm} |111\\rangle \\hspace{.25cm} \\rightarrow \\hspace{.25cm} |110\\rangle $$\n",
    "\n",
    "This gate is also sometimes refered to as a Toffoli Gate.\n",
    "\n",
    "$$\n",
    "\\begin{bmatrix} \n",
    "1 & 0 & 0 & 0 & 0 & 0 & 0 & 0\\\\ \n",
    "0 & 1 & 0 & 0 & 0 & 0 & 0 & 0\\\\ \n",
    "0 & 0 & 1 & 0 & 0 & 0 & 0 & 0\\\\ \n",
    "0 & 0 & 0 & 1 & 0 & 0 & 0 & 0\\\\ \n",
    "0 & 0 & 0 & 0 & 1 & 0 & 0 & 0\\\\ \n",
    "0 & 0 & 0 & 0 & 0 & 1 & 0 & 0\\\\ \n",
    "0 & 0 & 0 & 0 & 0 & 0 & 0 & 1\\\\ \n",
    "0 & 0 & 0 & 0 & 0 & 0 & 1 & 0\\\\ \n",
    "\\end{bmatrix}\n",
    "$$"
   ]
  },
  {
   "cell_type": "code",
   "execution_count": 282,
   "metadata": {},
   "outputs": [
    {
     "name": "stdout",
     "output_type": "stream",
     "text": [
      "Initial State:  (0.3535533906+0j)|000> + (0.3535533906+0j)|001> + (-0.3535533906+0j)|010> + (0.3535533906+0j)|011> + (-0.3535533906+0j)|100> + (-0.3535533906+0j)|101> + (-0.3535533906+0j)|110> + (0.3535533906+0j)|111>\n",
      " \n",
      "  CCNOT:  (0.3535533906+0j)|000> + (0.3535533906+0j)|001> + (-0.3535533906+0j)|010> + (0.3535533906+0j)|011> + (-0.3535533906+0j)|100> + (-0.3535533906+0j)|101> + (0.3535533906+0j)|110> + (-0.3535533906+0j)|111>\n"
     ]
    }
   ],
   "source": [
    "from pyquil.gates import CCNOT\n",
    "control_qubit0 = SD(0,3)\n",
    "control_qubit1 = SD(1,3)\n",
    "qubit2 = SD(2,3)\n",
    "\n",
    "p_CCNOT = Program(H(0),H(1),H(2),CPHASE10(m.pi,control_qubit1,qubit2),CPHASE10(m.pi,control_qubit0,control_qubit1))\n",
    "print('Initial State: ',qvm.wavefunction(p_CCNOT))\n",
    "print(' ')\n",
    "\n",
    "p_CCNOT.inst(CCNOT(control_qubit0,control_qubit1,qubit2))\n",
    "print('  CCNOT: ',qvm.wavefunction(p_CCNOT))"
   ]
  },
  {
   "cell_type": "markdown",
   "metadata": {},
   "source": [
    "This concludes all of the quantum gates provided by the pquil.gates file. \n",
    "\n",
    "## Defining Gates\n",
    "---\n",
    "\n",
    "Pyquil allows the user to create more gates beyond the basic set provided above, so long as one can specifiy the gate's matrix representation.  In order for a define gate to be valid, it must be a unitary matrix of size $2^{n} \\times 2^{n}$, where n is the number of qubits the gate operators on. Unitary matrices are defines as follows:\n",
    "\n",
    "$$ UU^{\\dagger} = I $$\n",
    "\n",
    "where I is the identity matrix, and $\\dagger$ is the complex conjugate of a matrix.\n",
    "\n",
    "As a simple example, let's try defining I$^2$, the 2-qubit identity matrix:"
   ]
  },
  {
   "cell_type": "code",
   "execution_count": 304,
   "metadata": {},
   "outputs": [
    {
     "name": "stdout",
     "output_type": "stream",
     "text": [
      "_____two_qubit program w/ our defined gate_____\n",
      "DEFGATE I2:\n",
      "    1, 0, 0, 0\n",
      "    0, 1, 0, 0\n",
      "    0, 0, 1, 0\n",
      "    0, 0, 0, 1\n",
      "\n",
      "I 1\n",
      "H 0\n",
      "\n",
      "_____before_____\n",
      "(0.7071067812+0j)|00> + (0.7071067812+0j)|01>\n",
      " \n",
      "_____after_____\n",
      "(0.7071067812+0j)|00> + (0.7071067812+0j)|01>\n",
      " \n"
     ]
    }
   ],
   "source": [
    "import numpy as np\n",
    "\n",
    "i2 = np.array([[1, 0, 0, 0],\n",
    "               [0, 1, 0, 0],\n",
    "               [0, 0, 1, 0],\n",
    "               [0, 0, 0, 1]])\n",
    "\n",
    "q0 = SD(0,2)\n",
    "q1 = SD(1,2)\n",
    "\n",
    "two_qubits = Program( I(q0),H(q1) ).defgate(\"I2\",i2)\n",
    "print('_____two_qubit program w/ our defined gate_____')\n",
    "print(two_qubits)\n",
    "\n",
    "print('_____before_____')\n",
    "print(qvm.wavefunction(two_qubits))\n",
    "print(' ')\n",
    "\n",
    "two_qubits.inst((\"I2\",q0,q1))\n",
    "print('_____after_____')\n",
    "print(qvm.wavefunction(two_qubits))\n",
    "print(' ')"
   ]
  },
  {
   "cell_type": "markdown",
   "metadata": {},
   "source": [
    "The I$^2$ operator works as intended, leaveing both states unchanged.  Let's try one more example, defining a gate that applies an X operation to the first qubit, and a Z operation to the second.\n",
    "\n",
    "To construct this new gate, we can do a tensor product of the two single qubit gates:\n",
    "\n",
    "$$ X_0 \\otimes Z_1 $$\n",
    "\n",
    "$$\n",
    "\\begin{bmatrix} \n",
    "0 & 1 & \\\\ \n",
    "1 & 0 & \\\\\n",
    "\\end{bmatrix} \\hspace{.2cm} \\otimes \\hspace{.2cm}\n",
    "\\begin{bmatrix} \n",
    "1 & 0 & \\\\ \n",
    "0 & -1 & \\\\\n",
    "\\end{bmatrix}\n",
    "$$\n",
    "\n",
    "$$\n",
    "\\begin{bmatrix} \n",
    "0 \\cdot \\begin{bmatrix} \n",
    "1 & 0 & \\\\ \n",
    "0 & -1 & \\\\\n",
    "\\end{bmatrix} & 1 \\cdot \\begin{bmatrix} \n",
    "1 & 0 & \\\\ \n",
    "0 & -1 & \\\\\n",
    "\\end{bmatrix} & \\\\ \n",
    "1 \\cdot \\begin{bmatrix} \n",
    "1 & 0 & \\\\ \n",
    "0 & -1 & \\\\\n",
    "\\end{bmatrix} & 0 \\cdot \\begin{bmatrix} \n",
    "1 & 0 & \\\\ \n",
    "0 & -1 & \\\\\n",
    "\\end{bmatrix} & \\\\\n",
    "\\end{bmatrix}\n",
    "$$\n",
    "\n",
    "$$\n",
    "\\begin{bmatrix} \n",
    "0 & 0 & 1 & 0 \\\\ \n",
    "0 & 0 & 0 & -1 \\\\ \n",
    "1 & 0 & 0 & 0 \\\\ \n",
    "0 & -1 & 0 & 0 \\\\ \n",
    "\\end{bmatrix}\n",
    "$$\n",
    "\n",
    "(what in the heck just happened?...) For a review on tensor products:\n",
    "\n",
    "https://en.wikipedia.org/wiki/Tensor_product\n",
    "\n",
    "Let's compare the effect of this matrix with that of applying the X and Z gates seperately:"
   ]
  },
  {
   "cell_type": "code",
   "execution_count": 320,
   "metadata": {},
   "outputs": [
    {
     "name": "stdout",
     "output_type": "stream",
     "text": [
      "_____before_____\n",
      "(0.5+0j)|00> + (0.5+0j)|01> + (-0.5+0j)|10> + (0.5+0j)|11>\n",
      " \n",
      "_____after XZ Gate_____\n",
      "(-0.5+0j)|00> + (-0.5+0j)|01> + (0.5+0j)|10> + (-0.5+0j)|11>\n",
      " \n",
      "_____X and Z Gates Sequentially_____\n",
      "(-0.5+0j)|00> + (-0.5+0j)|01> + (0.5+0j)|10> + (-0.5+0j)|11>\n"
     ]
    }
   ],
   "source": [
    "import numpy as np\n",
    "\n",
    "xz = np.array([[0, 0,  1,  0],\n",
    "               [0, 0,  0, -1],\n",
    "               [1, 0,  0,  0],\n",
    "               [0, -1, 0,  0]])\n",
    "\n",
    "q0 = SD(0,2)\n",
    "q1 = SD(1,2)\n",
    "\n",
    "two_qubits = Program( H(q0),H(q1),CPHASE10(m.pi,q0,q1) ).defgate(\"XZ\",xz)\n",
    "\n",
    "print('_____before_____')\n",
    "print(qvm.wavefunction(two_qubits))\n",
    "print(' ')\n",
    "\n",
    "two_qubits.inst((\"XZ\",q0,q1))\n",
    "print('_____after XZ Gate_____')\n",
    "print(qvm.wavefunction(two_qubits))\n",
    "print(' ')\n",
    "\n",
    "two_qubits2 = Program(H(q0),H(q1),CPHASE10(m.pi,q0,q1)).inst(X(q0)).inst(Z(q1))\n",
    "print('_____X and Z Gates Sequentially_____')\n",
    "print(qvm.wavefunction(two_qubits2))"
   ]
  },
  {
   "cell_type": "markdown",
   "metadata": {},
   "source": [
    "Both states are the same, which means our XZ gate did it's job correctly. Using a tensor product to combine any two individually unitary gates into a single higher order gate will always be unitary as well (I will spare you the proof).\n",
    "\n",
    "Now suppose that we want to define a gate, but not neccessarily for just one program.  For example, both of the examples above defined our custom gates as follows:\n",
    "\n",
    "---\n",
    "\n",
    "program = Program(...).DefGate(\"NAME\",matrix)\n",
    "\n",
    "---\n",
    "\n",
    "In general, we will always have to manually add custom gates to programs that aren't included in pyquil.gates, unless we go into pyquil.gates ourselves and define them there (do \\textbf{NOT} do this!).  But that doesn't mean we can create gate objects elsewhere in our code, or even other codes, and call on them whenever we want.\n",
    "\n",
    "Pyquil allows us to define gate objects, and then import them into any programs we choose.  To do this, we need the class DefGate, from pyquil.quilbase.  The reason we were able to use DefGate before without explicity importing it, is because it was already imported when we imported Program from pyquil.quil (importing imports... my head is spinning).\n",
    "\n",
    "Now we want to import DefGate directly and use it to define gates so that we can use them in any program we want:"
   ]
  },
  {
   "cell_type": "code",
   "execution_count": 349,
   "metadata": {},
   "outputs": [
    {
     "name": "stdout",
     "output_type": "stream",
     "text": [
      "DEFGATE XZ:\n",
      "    0, 0, 1, 0\n",
      "    0, 0, 0, -1\n",
      "    1, 0, 0, 0\n",
      "    0, -1, 0, 0\n",
      "\n"
     ]
    }
   ],
   "source": [
    "from pyquil.quilbase import DefGate\n",
    "\n",
    "xz = np.array([[0, 0,  1,  0],\n",
    "               [0, 0,  0, -1],\n",
    "               [1, 0,  0,  0],\n",
    "               [0, -1, 0,  0]])\n",
    "\n",
    "xz_gate = DefGate('XZ', xz)\n",
    "print(xz_gate)"
   ]
  },
  {
   "cell_type": "markdown",
   "metadata": {},
   "source": [
    "As we can see, we have successfully created the gate 'XZ', independent of any program.  Next, we of course want to try it out!"
   ]
  },
  {
   "cell_type": "code",
   "execution_count": 351,
   "metadata": {},
   "outputs": [
    {
     "name": "stdout",
     "output_type": "stream",
     "text": [
      "___our custom xz_gate___\n",
      "DEFGATE XZ:\n",
      "    0, 0, 1, 0\n",
      "    0, 0, 0, -1\n",
      "    1, 0, 0, 0\n",
      "    0, -1, 0, 0\n",
      "\n",
      "____.inst( xz_gate, (\"XZ\",q0,q1) )____\n",
      " \n",
      "(-0.5+0j)|00> + (-0.5+0j)|01> + (0.5+0j)|10> + (-0.5+0j)|11>\n"
     ]
    }
   ],
   "source": [
    "xz = np.array([[0, 0,  1,  0],\n",
    "               [0, 0,  0, -1],\n",
    "               [1, 0,  0,  0],\n",
    "               [0, -1, 0,  0]])\n",
    "q0 = SD(0,2)\n",
    "q1 = SD(1,2)\n",
    "\n",
    "xz_gate = DefGate('XZ', xz)\n",
    "print('___our custom xz_gate___')\n",
    "print(xz_gate)\n",
    "\n",
    "program = Program(H(q0),H(q1),CPHASE10(m.pi,q0,q1))\n",
    "program.inst( xz_gate, (\"XZ\",q0,q1) )\n",
    "print('____.inst( xz_gate, (\"XZ\",q0,q1) )____')\n",
    "print(' ')\n",
    "print(qvm.wavefunction(program))"
   ]
  },
  {
   "cell_type": "markdown",
   "metadata": {},
   "source": [
    "Another successful use of a custom gate (*thunderous applause*).  Since we can create custom gates as their own objects, we can do with them as we please.  In principle, you could create entire libraries of gates and import them as you see fit, so long as you remember to ammend them into your programs.  If you try and use a defined gate in a program without first ammending it, say you forgot to .inst( my_gate ), you will get an error because the program has no idea what you're asking of it.\n",
    "\n",
    "Lastly, as we have already seen, some gates have parameters that change the their effect on the qubits they operate on.  Pyquil also allows us to create custom gates with parameters.  To do this, we must import 'Paramters' from pyquil.parameters in order to define our own custom callable parameter.\n",
    "\n",
    "The Parameter function allows us to create a Parameter object class, as shown in the example below.  Once defined, we can use it in creating our gate, and Pyquil will recognize it as an argument.\n",
    "\n",
    "Let's create the following single qubit custom gate as our example:\n",
    "\n",
    "$$\n",
    "\\begin{bmatrix} \n",
    "cos(\\theta) & -sin(\\theta) & \\\\ \n",
    "-sin(\\theta) & -cos(\\theta) & \\\\\n",
    "\\end{bmatrix}\n",
    "$$"
   ]
  },
  {
   "cell_type": "code",
   "execution_count": 394,
   "metadata": {},
   "outputs": [
    {
     "name": "stdout",
     "output_type": "stream",
     "text": [
      "The parameter we just defined:   %theta    object type: <class 'pyquil.parameters.Parameter'>\n",
      "  \n",
      "____ our rotate gate ___\n",
      "DEFGATE Rot(%theta):\n",
      "    cos(%theta), -1*sin(%theta)\n",
      "    -1*sin(%theta), -1*cos(%theta)\n",
      "\n",
      "  \n",
      "____ Initial ____\n",
      "(1+0j)|0>\n",
      "  \n",
      "____ After Rot(pi/4) ____\n",
      "(0.7071067812+0j)|0> + (-0.7071067812+0j)|1>\n",
      "  \n"
     ]
    }
   ],
   "source": [
    "from pyquil.parameters import Parameter\n",
    "from pyquil.quilbase import DefGate\n",
    "import numpy as np\n",
    "\n",
    "theta = Parameter('theta')\n",
    "print('The parameter we just defined:  ',theta,'   object type:',type(theta))\n",
    "print('  ')\n",
    "\n",
    "rotate = np.array([[quil_cos(theta), -quil_sin(theta)],\n",
    "                [-quil_sin(theta),-quil_cos(theta)]])\n",
    "\n",
    "rot_gate = DefGate('Rot', rotate, [theta])\n",
    "print('____ our rotate gate ___')\n",
    "print(rot_gate)\n",
    "print('  ')\n",
    "\n",
    "rot_p = Program(rot_gate,I(0))\n",
    "print('____ Initial ____')\n",
    "print(qvm.wavefunction(rot_p))\n",
    "print('  ')\n",
    "\n",
    "rot_p.inst(Rot(np.pi/4)(0))\n",
    "print('____ After Rot(pi/4) ____')\n",
    "print(qvm.wavefunction(rot_p))\n",
    "print('  ')"
   ]
  },
  {
   "cell_type": "markdown",
   "metadata": {},
   "source": [
    "Our custom gate with the parameter 'theta' works! (*and the crowd goes wild*) \n",
    "\n",
    "If we look at the gate itself that was printed to console, we see that Pyquil has stored our custom parameter as %theta.  This was the result of ' theta = Parameter('theta') ' before we defined our gate.  However, not all functions will recognize 'theta' as a parameter - only pre-built Pyquil functions like quil_sin and quil_cos.  For example, if we instead wanted to use numpy's np.sin and np.cos, the code would have given us an error telling us that it didn't recognize 'theta'.  \n",
    "\n",
    "So long story short, if we want to create gates with paramaters, it's best to use Pyquil's pre-built functions when defining our matrices.  If our unitary operation doesn't require a parameter, then all we need is to input it's matrix into DefGate and we're all set!"
   ]
  },
  {
   "cell_type": "markdown",
   "metadata": {},
   "source": [
    "---\n",
    "\n",
    "This concludes all of the topics for lesson 3!  I hope you enjoyed this lesson, and I encourage you to take a look at my other .ipynb tutorials!\n",
    "\n",
    "link: https://github.com/dkoch92/Quantum-Algorithm-Tutorials"
   ]
  },
  {
   "cell_type": "code",
   "execution_count": null,
   "metadata": {},
   "outputs": [],
   "source": []
  }
 ],
 "metadata": {
  "kernelspec": {
   "display_name": "Python 3",
   "language": "python",
   "name": "python3"
  },
  "language_info": {
   "codemirror_mode": {
    "name": "ipython",
    "version": 3
   },
   "file_extension": ".py",
   "mimetype": "text/x-python",
   "name": "python",
   "nbconvert_exporter": "python",
   "pygments_lexer": "ipython3",
   "version": "3.6.5"
  }
 },
 "nbformat": 4,
 "nbformat_minor": 2
}
