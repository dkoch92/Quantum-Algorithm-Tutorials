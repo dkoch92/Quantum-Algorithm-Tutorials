{
 "cells": [
  {
   "cell_type": "markdown",
   "metadata": {},
   "source": [
    "# Guide to Gates Provided by Pyquil"
   ]
  },
  {
   "cell_type": "markdown",
   "metadata": {},
   "source": [
    "A reference guide for all of the gates that come standard with the Pyquil library, specifically the pyquil.gates file, along with some working examples"
   ]
  },
  {
   "cell_type": "markdown",
   "metadata": {},
   "source": [
    "-------------------------------------"
   ]
  },
  {
   "cell_type": "markdown",
   "metadata": {},
   "source": [
    "### Programs and Measurements"
   ]
  },
  {
   "cell_type": "markdown",
   "metadata": {},
   "source": [
    "A neccessary compoent tot writing code with Pyquil is understanding how a 'quantum circuit' is represented in their python code.  Specifically, Pyquil contains all information about gate sequencing in \"Programs\".  These programs are best thought of as a set of gate instructions, stored in a single list called a Program.  For example, the code below creates a program that contains the set of instructions: \"First, apply a Hadamard Gate to qubit 0, then apply an X gate to qubit 0\""
   ]
  },
  {
   "cell_type": "code",
   "execution_count": 3,
   "metadata": {},
   "outputs": [
    {
     "name": "stdout",
     "output_type": "stream",
     "text": [
      "H 0\n",
      "X 0\n",
      "\n"
     ]
    }
   ],
   "source": [
    "from pyquil import Program\n",
    "from pyquil.gates import H,X\n",
    "\n",
    "program = Program( H(0), X(0) )\n",
    "print(program)"
   ]
  },
  {
   "cell_type": "markdown",
   "metadata": {},
   "source": [
    "As we can see, printing program1 to console shows us the gates we requested, in the order we specified.  This is a handy feature that we will make use of frequently.\n",
    "\n",
    "So a program is our 'quantum circuit', next we need to observe it.  This can be done one of several ways:\n",
    "\n",
    "1) **wavefunction()** - This allows us to peak at the wavefunction without making ameasurement\n",
    "\n",
    "2) **measure()** and **run()** - The standard way of observing a quantum system. \n",
    "\n",
    "Let's see examples of both:"
   ]
  },
  {
   "cell_type": "code",
   "execution_count": 145,
   "metadata": {},
   "outputs": [
    {
     "name": "stdout",
     "output_type": "stream",
     "text": [
      "_____The Wavefunction_____\n",
      "(0.5+0j)|00> + (0.5+0j)|01> + (0.5+0j)|10> + (0.5+0j)|11>\n",
      "  \n",
      "___Measurement on qubit 0___\n",
      "[[0]]\n",
      "  \n",
      "___Measurement on both qubits___\n",
      "[[0, 1]]\n"
     ]
    }
   ],
   "source": [
    "from pyquil import QVMConnection\n",
    "qvm = QVMConnection()\n",
    "\n",
    "program1 = Program(H(0),H(1))\n",
    "program2 = Program(H(0),H(1))\n",
    "wf = qvm.wavefunction(program1)\n",
    "print('_____The Wavefunction_____')\n",
    "print(wf)\n",
    "print('  ')\n",
    "\n",
    "program1.measure(0,0)\n",
    "run1 = qvm.run(program1,0)\n",
    "print('___Measurement on qubit 0___')\n",
    "print(run1)\n",
    "print('  ')\n",
    "\n",
    "program2.measure_all()\n",
    "run2 = qvm.run(program2,[0,1])\n",
    "print('___Measurement on both qubits___')\n",
    "print(run2)"
   ]
  },
  {
   "cell_type": "markdown",
   "metadata": {},
   "source": [
    "In the code above, we create the same system twice (but they are not correlated in any way), and go about making measurements on the system in two different ways.  The first way is a single qubit measurement, while the second is a measurement on the complete system.\n",
    "\n",
    "In Pyquil, we can store the results of measurements onto classical bits of data for viewing later, which is exactly what is done in both cases.  As an example, consider a system of 3 qubits, but we only re interested on the final state of the 2$^{nd}$ qubit:"
   ]
  },
  {
   "cell_type": "code",
   "execution_count": 91,
   "metadata": {},
   "outputs": [
    {
     "data": {
      "text/plain": [
       "[[0, 0, 0]]"
      ]
     },
     "execution_count": 91,
     "metadata": {},
     "output_type": "execute_result"
    }
   ],
   "source": [
    "p = Program(H(0),H(1),H(2))\n",
    "target_qubit = 1\n",
    "creg_index = 8\n",
    "\n",
    "p.measure(target_qubit,creg_index)\n",
    "qvm.run(p,[0,1,2])"
   ]
  },
  {
   "cell_type": "markdown",
   "metadata": {},
   "source": [
    "This code will always return [[0,0,0]]. This is because we purposfully did something strange in where we choose to store the result of the measurement.  Specifically, we told the program to make a measurement on qubit 1, **and then store** this result in the 8$^{th}$ classical register spot.  Meanwhile, in the run( ) function, we asked to see only the info stored in the classical register spots 0 - 2 ([0,1,2]), Which by default starts out as all zeros.\n",
    "\n",
    "To see that we really did store the result of the measurement somewhere odd, let's extend the range of values we want to see in our classical register.  Run the following code several times until you see a 1 in the 8$^{th}$ spot of the vector (there's a 50% chance each time):"
   ]
  },
  {
   "cell_type": "code",
   "execution_count": 130,
   "metadata": {},
   "outputs": [
    {
     "data": {
      "text/plain": [
       "[[0, 0, 0, 0, 0, 0, 0, 0, 1, 0, 0]]"
      ]
     },
     "execution_count": 130,
     "metadata": {},
     "output_type": "execute_result"
    }
   ],
   "source": [
    "p2 = Program(H(0),H(1),H(2))\n",
    "target_qubit = 1\n",
    "creg_index = 8\n",
    "\n",
    "p2.measure(target_qubit,creg_index)\n",
    "qvm.run(p2,[0,1,2,3,4,5,6,7,8,9,10])"
   ]
  },
  {
   "cell_type": "markdown",
   "metadata": {},
   "source": [
    "Sure enough, there it is. A bizzare thing to ask, but the code does as intended. \n",
    "\n",
    "Now, suppose we want to be more interactive with our quantum circuits beyond just single measurements.  Pyquil allows us to do this in several ways, but we must first point out an important notation.  In standard dirac notation, it common to write the ordering of qubits from left to right, for example:\n",
    "\n",
    "qubit 1 = |$0\\rangle$  |  qubit 2 = |$1\\rangle$  |  qubit 3 = |$1\\rangle$ $\\rightarrow$ |$011 \\rangle$\n",
    "\n",
    "However, pyquil stores qubit 0 as the **rightmost** state, with all qubits being written from right to left in ascending order:\n",
    "\n",
    "**Pyquil:** qubit 1 = |$0\\rangle$  |  qubit 2 = |$1\\rangle$  |  qubit 3 = |$1\\rangle$ $\\rightarrow$ |$110 \\rangle$\n",
    "\n",
    "Thus, as a simple function for converting Pyquil's notation to a more common notation, we need only use the following function:"
   ]
  },
  {
   "cell_type": "code",
   "execution_count": 254,
   "metadata": {},
   "outputs": [
    {
     "name": "stdout",
     "output_type": "stream",
     "text": [
      "3\n"
     ]
    }
   ],
   "source": [
    "def SD(qubit,total):\n",
    "    standard_notation = abs((total-1)-qubit)\n",
    "    return standard_notation\n",
    "\n",
    "total_qubits = 6\n",
    "target_qubit = 2\n",
    "\n",
    "print(SD(target_qubit,total_qubits))\n",
    "    "
   ]
  },
  {
   "cell_type": "markdown",
   "metadata": {},
   "source": [
    "The function above is completely optional, so long as Pyquil's notation does not confuse you.  But as an example of why it may be useful for starting out, the following code shows a situation which **may** be confusing otherwise:"
   ]
  },
  {
   "cell_type": "code",
   "execution_count": 255,
   "metadata": {},
   "outputs": [
    {
     "name": "stdout",
     "output_type": "stream",
     "text": [
      "___Wavefunction before the measurement___\n",
      "(0.3535533906+0j)|000> + (0.3535533906+0j)|001> + (0.3535533906+0j)|010> + (0.3535533906+0j)|011> + (0.3535533906+0j)|100> + (0.3535533906+0j)|101> + (0.3535533906+0j)|110> + (0.3535533906+0j)|111>\n",
      "  \n",
      "Measuered State of Qubit 0:  [[0]]\n",
      "  \n",
      "___Wavefunction after the measurement___\n",
      "(0.5+0j)|000> + (0.5+0j)|010> + (0.5+0j)|100> + (0.5+0j)|110>\n",
      "  \n"
     ]
    }
   ],
   "source": [
    "p3 = Program(H(0),H(1),H(2))\n",
    "target_qubit = 0\n",
    "creg_index = 0\n",
    "\n",
    "wf1 = qvm.wavefunction(p3)\n",
    "print('___Wavefunction before the measurement___')\n",
    "print(wf1)\n",
    "print('  ')\n",
    "\n",
    "p3.measure(target_qubit,creg_index)\n",
    "measured = qvm.run(p3,[creg_index])\n",
    "print('Measuered State of Qubit 0: ',measured)\n",
    "print('  ')\n",
    "\n",
    "wf2 = qvm.wavefunction(p3)\n",
    "print('___Wavefunction after the measurement___')\n",
    "print(wf2)\n",
    "print('  ')"
   ]
  },
  {
   "cell_type": "markdown",
   "metadata": {},
   "source": [
    "If you are unaware of Pyquil's notation, the result from this code may suggest something is going horribly wrong - we measured qubit 0, which should collapse it's wavefunction, but the resulting wavefunction appears to still show it in a superpostion.\n",
    "\n",
    "However, if you know to read the qubits from right to left, there is no issue here.  The rightmost qubit **is** qubit 0, and does indeed collapse down to the measurement result.  But if we would like qubit 0 to be the leftmost number when we look at the wavefunction:"
   ]
  },
  {
   "cell_type": "code",
   "execution_count": 159,
   "metadata": {},
   "outputs": [
    {
     "name": "stdout",
     "output_type": "stream",
     "text": [
      "___Wavefunction before the measurement___\n",
      "(0.3535533906+0j)|000> + (0.3535533906+0j)|001> + (0.3535533906+0j)|010> + (0.3535533906+0j)|011> + (0.3535533906+0j)|100> + (0.3535533906+0j)|101> + (0.3535533906+0j)|110> + (0.3535533906+0j)|111>\n",
      "  \n",
      "Measuered State of Qubit 0:  [[0]]\n",
      "  \n",
      "___Wavefunction after the measurement___\n",
      "(0.5+0j)|000> + (0.5+0j)|001> + (0.5+0j)|010> + (0.5+0j)|011>\n",
      "  \n"
     ]
    }
   ],
   "source": [
    "p3 = Program(H(0),H(1),H(2))\n",
    "target_qubit = SD(0,3)\n",
    "creg_index = 0\n",
    "\n",
    "wf1 = qvm.wavefunction(p3)\n",
    "print('___Wavefunction before the measurement___')\n",
    "print(wf1)\n",
    "print('  ')\n",
    "\n",
    "p3.measure(target_qubit,creg_index)\n",
    "measured = qvm.run(p3,[creg_index])\n",
    "print('Measuered State of Qubit 0: ',measured)\n",
    "print('  ')\n",
    "\n",
    "wf2 = qvm.wavefunction(p3)\n",
    "print('___Wavefunction after the measurement___')\n",
    "print(wf2)\n",
    "print('  ')"
   ]
  },
  {
   "cell_type": "markdown",
   "metadata": {},
   "source": [
    "As a general rule of thumb, it is probably best to learn to adopt the notation that Pyquil insists on.  But for the examples in this lesson, we will use the SD() function as a way of seeing results that match what most people are more  accustomed to.  Now, let us return to the previous code example and discuss what happened."
   ]
  },
  {
   "cell_type": "markdown",
   "metadata": {},
   "source": [
    "In the example above we can see that we start with an equal superpostion of all 8 combitions for qubits 0,1, and 2.  But after we measure the target qubit (qubit 0), we collapse it down to only one value.  Thus, the resulting wavefunction afterwards is a superposition of the remaining four 4 states that all have the target qubit's measured value.\n",
    "\n",
    "Later we shall see examples of entangled states, where measuring one qubit collapses the wavefunction of other qubits.  Here, qubits 1 and 2 are in seperable states from qubit 1, so even after the measurement they could still be in either |0$\\rangle$ or |1$\\rangle$.\n",
    "\n",
    "Lastly, suppose we want to apply a gate to our qubits, but we don't want to specify it in Program().  This is a very common ask, since we can't always specify every single step of an algorithm from the beginning.  To do this, we use the function .inst(), which can be thought of as 'instantly' applying gate instructions to our program:"
   ]
  },
  {
   "cell_type": "code",
   "execution_count": 165,
   "metadata": {},
   "outputs": [
    {
     "name": "stdout",
     "output_type": "stream",
     "text": [
      "Measuered State of Qubit 1:  [[1]]\n",
      "  \n",
      "__Wavefunction after measuring qubit 1___\n",
      "(0.7071067812+0j)|01> + (0.7071067812+0j)|11>\n",
      "  \n",
      "__Wavefunction after .inst(H(0))___\n",
      "(0.5+0j)|00> + (-0.5+0j)|01> + (0.5+0j)|10> + (-0.5+0j)|11>\n"
     ]
    }
   ],
   "source": [
    "p4 = Program(H(0),H(1))\n",
    "target_qubit = SD(1,2)\n",
    "creg_index = 1\n",
    "\n",
    "p4.measure(target_qubit,creg_index)\n",
    "m4 = qvm.run(p4,[creg_index])\n",
    "print('Measuered State of Qubit 1: ',m4)\n",
    "print('  ')\n",
    "\n",
    "\n",
    "print('__Wavefunction after measuring qubit 1___')\n",
    "print(qvm.wavefunction(p4))\n",
    "print('  ')\n",
    "\n",
    "p4.inst(H(0))\n",
    "print('__Wavefunction after .inst(H(0))___')\n",
    "print(qvm.wavefunction(p4))"
   ]
  },
  {
   "cell_type": "markdown",
   "metadata": {},
   "source": [
    "As we can see, our initial program is only two gates: Hadamards on qubits 0 and 1, followed my a measurement.  Then, using the .inst() function, we apply another gate after the measurement, Hadamard on qubit 0.\n",
    "\n",
    "This concludes our brief explination of programs and measurements.  We will now proceed with working through each gate provided in the Pyquil libraray"
   ]
  },
  {
   "cell_type": "markdown",
   "metadata": {},
   "source": [
    "-------\n",
    "# Single Qubit Gates\n",
    "-------\n",
    "\n",
    "All of the following gates act on a single qubit.\n",
    "\n",
    "## I\n",
    "\n",
    "The single qubit Identity Gate\n",
    "\n",
    "$$\n",
    "\\begin{bmatrix} \n",
    "1 & 0\\\\ \n",
    "0 & 1\n",
    "\\end{bmatrix}\n",
    "$$\n",
    "\n",
    "The effect of this gate renders the qubit's state unchanged."
   ]
  },
  {
   "cell_type": "code",
   "execution_count": 256,
   "metadata": {},
   "outputs": [
    {
     "name": "stdout",
     "output_type": "stream",
     "text": [
      "Initial State:  (1+0j)|0>\n",
      "Identity:  (1+0j)|0>\n"
     ]
    }
   ],
   "source": [
    "from pyquil.gates import I\n",
    "\n",
    "p_I = Program()\n",
    "print('Initial State: ',qvm.wavefunction(p_I))\n",
    "p_I.inst(I(0))\n",
    "print('Identity: ',qvm.wavefunction(p_I))"
   ]
  },
  {
   "cell_type": "markdown",
   "metadata": {},
   "source": [
    "## Hadamard (H)\n",
    "\n",
    "The single qubit Identity Gate\n",
    "\n",
    "$$\n",
    "\\begin{bmatrix} \n",
    "1 & 1\\\\ \n",
    "1 & -1\n",
    "\\end{bmatrix}\n",
    "$$\n",
    "\n",
    "The effect of this gate is as follows:\n",
    "\n",
    "$$\\textbf{H} |0\\rangle = \\frac{1}{\\sqrt{2}}(|0\\rangle + |1\\rangle)$$\n",
    "\n",
    "$$\\textbf{H} |1\\rangle = \\frac{1}{\\sqrt{2}}(|0\\rangle - |1\\rangle)$$\n",
    "\n",
    "This gate results in a qubit being in a 50 / 50 superposition of states |$0\\rangle$ and |$1\\rangle$."
   ]
  },
  {
   "cell_type": "code",
   "execution_count": 182,
   "metadata": {},
   "outputs": [
    {
     "name": "stdout",
     "output_type": "stream",
     "text": [
      "H on |0>:  (0.7071067812+0j)|0> + (0.7071067812+0j)|1>\n",
      "H on |1>:  (0.7071067812+0j)|0> + (-0.7071067812+0j)|1>\n"
     ]
    }
   ],
   "source": [
    "from pyquil.gates import H, X\n",
    "\n",
    "p_H = Program(H(0))\n",
    "print('H on |0>: ',qvm.wavefunction(p_H))\n",
    "p_H = Program(X(0),H(0))\n",
    "print('H on |1>: ',qvm.wavefunction(p_H))"
   ]
  },
  {
   "cell_type": "markdown",
   "metadata": {},
   "source": [
    "# Pauli Operators\n",
    "------"
   ]
  },
  {
   "cell_type": "markdown",
   "metadata": {},
   "source": [
    "## X\n",
    "\n",
    "$$\n",
    "\\begin{bmatrix} \n",
    "0 & 1\\\\ \n",
    "1 & 0\n",
    "\\end{bmatrix}\n",
    "$$\n",
    "\n",
    "The effect of this gate flip's a qubits |0$\\rangle$ and |1$\\rangle$ amplitudes"
   ]
  },
  {
   "cell_type": "code",
   "execution_count": 174,
   "metadata": {},
   "outputs": [
    {
     "name": "stdout",
     "output_type": "stream",
     "text": [
      "Initial qubit 0:  (1+0j)|0>\n",
      "X on qubit 0:  (1+0j)|1>\n",
      "H on qubit 0:  (0.7071067812+0j)|0> + (-0.7071067812+0j)|1>\n",
      "X on qubit 0:  (-0.7071067812+0j)|0> + (0.7071067812+0j)|1>\n",
      "H on qubit 0:  (-1+0j)|1>\n"
     ]
    }
   ],
   "source": [
    "from pyquil.gates import X\n",
    "p_X = Program()\n",
    "print('Initial qubit 0: ',qvm.wavefunction(p_X))\n",
    "p_X.inst(X(0))\n",
    "print('X on qubit 0: ',qvm.wavefunction(p_X))\n",
    "p_X.inst(H(0))\n",
    "print('H on qubit 0: ',qvm.wavefunction(p_X))\n",
    "p_X.inst(X(0))\n",
    "print('X on qubit 0: ',qvm.wavefunction(p_X))\n",
    "p_X.inst(H(0))\n",
    "print('H on qubit 0: ',qvm.wavefunction(p_X))"
   ]
  },
  {
   "cell_type": "markdown",
   "metadata": {},
   "source": [
    "## Y\n",
    "\n",
    "$$\n",
    "\\begin{bmatrix} \n",
    "0 & -i\\\\ \n",
    "i & 0\n",
    "\\end{bmatrix}\n",
    "$$\n",
    "\n",
    "The effect of this gate flip's a qubits |0$\\rangle$ and |1$\\rangle$ amplitudes and multiplys by imaginary numbers (phase)"
   ]
  },
  {
   "cell_type": "code",
   "execution_count": 173,
   "metadata": {},
   "outputs": [
    {
     "name": "stdout",
     "output_type": "stream",
     "text": [
      "Initial qubit 0:  (1+0j)|0>\n",
      "Y on qubit 0:  1j|1>\n",
      "H on qubit 0:  0.7071067812j|0> + -0.7071067812j|1>\n",
      "Y on qubit 0:  (-0.7071067812+0j)|0> + (-0.7071067812+0j)|1>\n",
      "H on qubit 0:  (-1+0j)|0>\n"
     ]
    }
   ],
   "source": [
    "from pyquil.gates import Y\n",
    "p_Y = Program()\n",
    "print('Initial qubit 0: ',qvm.wavefunction(p_Y))\n",
    "p_Y.inst(Y(0))\n",
    "print('Y on qubit 0: ',qvm.wavefunction(p_Y))\n",
    "p_Y.inst(H(0))\n",
    "print('H on qubit 0: ',qvm.wavefunction(p_Y))\n",
    "p_Y.inst(Y(0))\n",
    "print('Y on qubit 0: ',qvm.wavefunction(p_Y))\n",
    "p_Y.inst(H(0))\n",
    "print('H on qubit 0: ',qvm.wavefunction(p_Y))"
   ]
  },
  {
   "cell_type": "markdown",
   "metadata": {},
   "source": [
    "## Z\n",
    "\n",
    "$$\n",
    "\\begin{bmatrix} \n",
    "1 & 0\\\\ \n",
    "0 & -1\n",
    "\\end{bmatrix}\n",
    "$$\n",
    "\n",
    "The effect of this gate leaves a qubit's |0$\\rangle$ amplitude unchanged, while multiplying by -1 (phase) to a qubit's |1$\\rangle$ amplitude."
   ]
  },
  {
   "cell_type": "code",
   "execution_count": 177,
   "metadata": {},
   "outputs": [
    {
     "name": "stdout",
     "output_type": "stream",
     "text": [
      "Initial qubit 0:  (1+0j)|0>\n",
      "Z on qubit 0:  (1+0j)|0>\n",
      "H on qubit 0:  (0.7071067812+0j)|0> + (0.7071067812+0j)|1>\n",
      "Z on qubit 0:  (0.7071067812+0j)|0> + (-0.7071067812+0j)|1>\n",
      "H on qubit 0:  (1+0j)|1>\n"
     ]
    }
   ],
   "source": [
    "from pyquil.gates import Z\n",
    "p_Z = Program()\n",
    "print('Initial qubit 0: ',qvm.wavefunction(p_Z))\n",
    "p_Z.inst(Z(0))\n",
    "print('Z on qubit 0: ',qvm.wavefunction(p_Z))\n",
    "p_Z.inst(H(0))\n",
    "print('H on qubit 0: ',qvm.wavefunction(p_Z))\n",
    "p_Z.inst(Z(0))\n",
    "print('Z on qubit 0: ',qvm.wavefunction(p_Z))\n",
    "p_Z.inst(H(0))\n",
    "print('H on qubit 0: ',qvm.wavefunction(p_Z))"
   ]
  },
  {
   "cell_type": "markdown",
   "metadata": {},
   "source": [
    "# Phase Gates\n",
    "------"
   ]
  },
  {
   "cell_type": "markdown",
   "metadata": {},
   "source": [
    "## PHASE  (R$_{\\phi}$)\n",
    "\n",
    "$$\n",
    "\\begin{bmatrix} \n",
    "1 & 0\\\\ \n",
    "0 & e^{i\\phi}\n",
    "\\end{bmatrix}\n",
    "$$\n",
    "\n",
    "A gate similar to the Z gate.  It leaves a qubit's |0$\\rangle$ amplitude unchanged, while multiplying by a phase $e^{i\\phi}$ to a qubit's |1$\\rangle$ amplitude."
   ]
  },
  {
   "cell_type": "code",
   "execution_count": 191,
   "metadata": {},
   "outputs": [
    {
     "name": "stdout",
     "output_type": "stream",
     "text": [
      "phi = pi -- this is equivilant to a Z gate\n",
      "  \n",
      "Initial Mixed State:  (0.7071067812+0j)|0> + (0.7071067812+0j)|1>\n",
      "S Gate:  (0.7071067812+0j)|0> + (-0.7071067812+0j)|1>\n",
      "S Gate:  (0.7071067812+0j)|0> + (0.7071067812+0j)|1>\n"
     ]
    }
   ],
   "source": [
    "import math as m\n",
    "from pyquil.gates import PHASE\n",
    "phi = m.pi\n",
    "print('phi = pi -- this is equivilant to a Z gate')\n",
    "print('  ')\n",
    "p_Rp = Program(H(0))\n",
    "print('Initial Mixed State: ',qvm.wavefunction(p_Rp))\n",
    "p_Rp.inst(PHASE(phi,0))\n",
    "print('S Gate: ',qvm.wavefunction(p_Rp))\n",
    "p_Rp.inst(PHASE(phi,0))\n",
    "print('S Gate: ',qvm.wavefunction(p_Rp))"
   ]
  },
  {
   "cell_type": "markdown",
   "metadata": {},
   "source": [
    "## S\n",
    "\n",
    "A pre-defined gate for R$_{\\phi}$, $\\phi$=$\\frac{\\pi}{2}$\n",
    "\n",
    "$$\n",
    "\\begin{bmatrix} \n",
    "1 & 0\\\\ \n",
    "0 & i\n",
    "\\end{bmatrix}\n",
    "$$\n",
    "\n",
    "A gate similar to the Z gate.  It leaves a qubit's |0$\\rangle$ amplitude unchanged, while multiplying by i (phase) to a qubit's |1$\\rangle$ amplitude."
   ]
  },
  {
   "cell_type": "code",
   "execution_count": 187,
   "metadata": {},
   "outputs": [
    {
     "name": "stdout",
     "output_type": "stream",
     "text": [
      "Initial Mixed State:  (0.7071067812+0j)|0> + (0.7071067812+0j)|1>\n",
      "S Gate:  (0.7071067812+0j)|0> + 0.7071067812j|1>\n",
      "S Gate:  (0.7071067812+0j)|0> + (-0.7071067812+0j)|1>\n"
     ]
    }
   ],
   "source": [
    "from pyquil.gates import S\n",
    "p_S = Program(H(0))\n",
    "print('Initial Mixed State: ',qvm.wavefunction(p_S))\n",
    "p_S.inst(S(0))\n",
    "print('S Gate: ',qvm.wavefunction(p_S))\n",
    "p_S.inst(S(0))\n",
    "print('S Gate: ',qvm.wavefunction(p_S))"
   ]
  },
  {
   "cell_type": "markdown",
   "metadata": {},
   "source": [
    "## T\n",
    "\n",
    "A pre-defined gate for R$_{\\phi}$, $\\phi$=$\\frac{\\pi}{4}$\n",
    "\n",
    "$$\n",
    "\\begin{bmatrix} \n",
    "1 & 0\\\\ \n",
    "0 & e^{i\\frac{\\pi}{4}}\n",
    "\\end{bmatrix}\n",
    "$$\n",
    "\n",
    "A gate similar to the Z gate.  It leaves a qubit's |0$\\rangle$ amplitude unchanged, while multiplying by $e^{i\\frac{\\pi}{4}}$ (phase) to a qubit's |1$\\rangle$ amplitude."
   ]
  },
  {
   "cell_type": "code",
   "execution_count": 188,
   "metadata": {},
   "outputs": [
    {
     "name": "stdout",
     "output_type": "stream",
     "text": [
      "Initial State:  (1+0j)|1>\n",
      "S Gate:  (0.7071067812+0.7071067812j)|1>\n",
      "S Gate:  1j|1>\n"
     ]
    }
   ],
   "source": [
    "from pyquil.gates import T\n",
    "p_T = Program(X(0))\n",
    "print('Initial State: ',qvm.wavefunction(p_T))\n",
    "p_T.inst(T(0))\n",
    "print('T Gate: ',qvm.wavefunction(p_T))\n",
    "p_T.inst(T(0))\n",
    "print('T Gate: ',qvm.wavefunction(p_T))"
   ]
  },
  {
   "cell_type": "markdown",
   "metadata": {},
   "source": [
    "# Rotation Gates\n",
    "-------"
   ]
  },
  {
   "cell_type": "markdown",
   "metadata": {},
   "source": [
    "The follow gates all represent rotations of a state on a Bloch spehere.  A Bloch sphere is a visual representation that maps the state of a qubit to a location on the surface of a sphere, radius = 1.  An image of a Bloch sphere and it's axes is given below:\n",
    "![title](Bloch_Sphere.png)"
   ]
  },
  {
   "cell_type": "markdown",
   "metadata": {},
   "source": [
    "## R$_x$($\\theta$)\n",
    "\n",
    "A rotation gate, representing a rotation around the x-axis on a Bloch Sphere\n",
    "\n",
    "$$\n",
    "\\begin{bmatrix} \n",
    "cos(\\frac{\\theta}{2}) & -i \\cdot sin(\\frac{\\theta}{2})\\\\ \n",
    "-i \\cdot sin(\\frac{\\theta}{2}) & cos(\\frac{\\theta}{2})\n",
    "\\end{bmatrix}\n",
    "$$\n"
   ]
  },
  {
   "cell_type": "code",
   "execution_count": 219,
   "metadata": {},
   "outputs": [
    {
     "name": "stdout",
     "output_type": "stream",
     "text": [
      "Initial State:  (1+0j)|0>    = |0>\n",
      "theta = pi/2 -- rotations by 90 degrees around the x-axis (counter-clockwise)\n",
      "  \n",
      "Rx(90) Gate:  (0.7071067812+0j)|0> + -0.7071067812j|1>    = -Y\n",
      "Rx(90) Gate:  -1j|1>    = |1>\n",
      "Rx(90) Gate:  (-0.7071067812+0j)|0> + -0.7071067812j|1>    = Y\n",
      "Rx(90) Gate:  (-1+0j)|0>    = |0>\n"
     ]
    }
   ],
   "source": [
    "from pyquil.gates import RX\n",
    "theta = m.pi/2\n",
    "p_Rx = Program()\n",
    "print('Initial State: ',qvm.wavefunction(p_Rx),'   = |0>')\n",
    "print('theta = pi/2 -- rotations by 90 degrees around the x-axis (counter-clockwise)')\n",
    "print('  ')\n",
    "p_Rx.inst(RX(theta,0))\n",
    "print('Rx(90) Gate: ',qvm.wavefunction(p_Rx),'   = -Y')\n",
    "p_Rx.inst(RX(theta,0))\n",
    "print('Rx(90) Gate: ',qvm.wavefunction(p_Rx),'   = |1>')\n",
    "p_Rx.inst(RX(theta,0))\n",
    "print('Rx(90) Gate: ',qvm.wavefunction(p_Rx),'   = Y')\n",
    "p_Rx.inst(RX(theta,0))\n",
    "print('Rx(90) Gate: ',qvm.wavefunction(p_Rx),'   = |0>')"
   ]
  },
  {
   "cell_type": "markdown",
   "metadata": {},
   "source": [
    "## R$_y$($\\theta$)\n",
    "\n",
    "A rotation gate, representing a rotation around the y-axis on a Bloch Sphere\n",
    "\n",
    "$$\n",
    "\\begin{bmatrix} \n",
    "cos(\\frac{\\theta}{2}) & -sin(\\frac{\\theta}{2})\\\\ \n",
    "sin(\\frac{\\theta}{2}) & cos(\\frac{\\theta}{2})\n",
    "\\end{bmatrix}\n",
    "$$\n"
   ]
  },
  {
   "cell_type": "code",
   "execution_count": 220,
   "metadata": {},
   "outputs": [
    {
     "name": "stdout",
     "output_type": "stream",
     "text": [
      "Initial State:  (1+0j)|0>    = |0>\n",
      "theta = pi/2 -- rotations by 90 degrees around the y-axis (counter-clockwise)\n",
      "  \n",
      "Ry(90) Gate:  (0.7071067812+0j)|0> + (0.7071067812+0j)|1>    = X\n",
      "Ry(90) Gate:  (1+0j)|1>    = |1>\n",
      "Ry(90) Gate:  (-0.7071067812+0j)|0> + (0.7071067812+0j)|1>    = -X\n",
      "Ry(90) Gate:  (-1+0j)|0>    = |0>\n"
     ]
    }
   ],
   "source": [
    "from pyquil.gates import RY\n",
    "theta = m.pi/2\n",
    "p_Ry = Program()\n",
    "print('Initial State: ',qvm.wavefunction(p_Ry),'   = |0>')\n",
    "print('theta = pi/2 -- rotations by 90 degrees around the y-axis (counter-clockwise)')\n",
    "print('  ')\n",
    "p_Ry.inst(RY(theta,0))\n",
    "print('Ry(90) Gate: ',qvm.wavefunction(p_Ry),'   = X')\n",
    "p_Ry.inst(RY(theta,0))\n",
    "print('Ry(90) Gate: ',qvm.wavefunction(p_Ry),'   = |1>')\n",
    "p_Ry.inst(RY(theta,0))\n",
    "print('Ry(90) Gate: ',qvm.wavefunction(p_Ry),'   = -X')\n",
    "p_Ry.inst(RY(theta,0))\n",
    "print('Ry(90) Gate: ',qvm.wavefunction(p_Ry),'   = |0>')\n"
   ]
  },
  {
   "cell_type": "markdown",
   "metadata": {},
   "source": [
    "## R$_z$($\\theta$)\n",
    "\n",
    "A rotation gate, representing a rotation around the z-axis on a Bloch Sphere\n",
    "\n",
    "$$\n",
    "\\begin{bmatrix} \n",
    "e^{\\frac{-i\\theta}{2}} & 0\\\\ \n",
    "0 & e^{\\frac{i\\theta}{2}}\n",
    "\\end{bmatrix}\n",
    "$$\n"
   ]
  },
  {
   "cell_type": "code",
   "execution_count": 228,
   "metadata": {},
   "outputs": [
    {
     "name": "stdout",
     "output_type": "stream",
     "text": [
      "Initial State:  (0.7071067812+0j)|0> + (0.7071067812+0j)|1>  = X\n",
      "theta = pi -- rotations by 90 degrees around the z-axis (counter-clockwise)\n",
      "  \n",
      "Rz(90) Gate:  (0.5-0.5j)|0> + (0.5+0.5j)|1>    = Y\n",
      "Rz(90) Gate:  -0.7071067812j|0> + 0.7071067812j|1>    = -X\n",
      "Rz(90) Gate:  (-0.5-0.5j)|0> + (-0.5+0.5j)|1>    = -Y\n",
      "Rz(90) Gate:  (-0.7071067812+0j)|0> + (-0.7071067812+0j)|1>    = X\n"
     ]
    }
   ],
   "source": [
    "from pyquil.gates import RZ\n",
    "theta = m.pi/2\n",
    "p_Rz = Program(H(0))\n",
    "print('Initial State: ',qvm.wavefunction(p_Rz),' = X')\n",
    "print('theta = pi -- rotations by 90 degrees around the z-axis (counter-clockwise)')\n",
    "print('  ')\n",
    "p_Rz.inst(RZ(theta,0))\n",
    "print('Rz(90) Gate: ',qvm.wavefunction(p_Rz),'   = Y')\n",
    "p_Rz.inst(RZ(theta,0))\n",
    "print('Rz(90) Gate: ',qvm.wavefunction(p_Rz),'   = -X')\n",
    "p_Rz.inst(RZ(theta,0))\n",
    "print('Rz(90) Gate: ',qvm.wavefunction(p_Rz),'   = -Y')\n",
    "p_Rz.inst(RZ(theta,0))\n",
    "print('Rz(90) Gate: ',qvm.wavefunction(p_Rz),'   = X')"
   ]
  },
  {
   "cell_type": "markdown",
   "metadata": {},
   "source": [
    "# Two Qubit Control Gates\n",
    "---------\n",
    "\n",
    "All of the following gates act on 2 qubits."
   ]
  },
  {
   "cell_type": "markdown",
   "metadata": {},
   "source": [
    "## CNOT\n",
    "\n",
    "This gate uses a 'target qubit' and a 'control qubit'.  The effect of this gate is as follows:\n",
    "\n",
    "$$\\textbf{CNOT} \\hspace{.2cm} |00\\rangle \\hspace{.25cm} \\rightarrow \\hspace{.25cm} |00\\rangle $$\n",
    "$$\\textbf{CNOT} \\hspace{.2cm} |01\\rangle \\hspace{.25cm} \\rightarrow \\hspace{.25cm} |01\\rangle $$\n",
    "$$\\textbf{CNOT} \\hspace{.2cm} |10\\rangle \\hspace{.25cm} \\rightarrow \\hspace{.25cm} |11\\rangle $$\n",
    "$$\\textbf{CNOT} \\hspace{.2cm} |11\\rangle \\hspace{.25cm} \\rightarrow \\hspace{.25cm} |10\\rangle $$\n",
    "\n",
    "In this notation, the first qubit is the control and the second qubit is the target.  If the first qubit is in the state |$0\\rangle$, nothing happens to the second qubit.  If the first qubit is in the state |$1\\rangle$, then the amplitudes of the second qubit are flipped.\n",
    "\n",
    "Another way to think of this gate is as a 'control-X' gate, where the state of the control qubit determines whether or not an X gate is applied to the target qubit.\n",
    "\n",
    "$$\n",
    "\\begin{bmatrix} \n",
    "1 & 0 & 0 & 0\\\\ \n",
    "0 & 1 & 0 & 0\\\\ \n",
    "0 & 0 & 0 & 1\\\\ \n",
    "0 & 0 & 1 & 0\\\\ \n",
    "\\end{bmatrix}\n",
    "$$\n"
   ]
  },
  {
   "cell_type": "code",
   "execution_count": 240,
   "metadata": {},
   "outputs": [
    {
     "name": "stdout",
     "output_type": "stream",
     "text": [
      "Initial State:  (1+0j)|00>\n",
      "After CNOT:  (1+0j)|00>\n",
      "  \n",
      "Initial State:  (1+0j)|10>\n",
      "After CNOT:  (1+0j)|11>\n",
      "  \n",
      "Initial State:  (1+0j)|01>\n",
      "After CNOT:  (1+0j)|01>\n",
      "  \n",
      "Initial State:  (1+0j)|11>\n",
      "After CNOT:  (1+0j)|10>\n",
      "  \n"
     ]
    }
   ],
   "source": [
    "from pyquil.gates import CNOT\n",
    "control_qubit = SD(0,2)\n",
    "target_qubit  = SD(1,2)\n",
    "\n",
    "p_CNOT = Program(I(control_qubit),I(target_qubit))\n",
    "print('Initial State: ',qvm.wavefunction(p_CNOT))\n",
    "p_CNOT.inst(CNOT(control_qubit,target_qubit))\n",
    "print('After CNOT: ',qvm.wavefunction(p_CNOT))\n",
    "print('  ')\n",
    "\n",
    "p_CNOT = Program(X(control_qubit),I(target_qubit))\n",
    "print('Initial State: ',qvm.wavefunction(p_CNOT))\n",
    "p_CNOT.inst(CNOT(control_qubit,target_qubit))\n",
    "print('After CNOT: ',qvm.wavefunction(p_CNOT))\n",
    "print('  ')\n",
    "\n",
    "p_CNOT = Program(I(control_qubit),X(target_qubit))\n",
    "print('Initial State: ',qvm.wavefunction(p_CNOT))\n",
    "p_CNOT.inst(CNOT(control_qubit,target_qubit))\n",
    "print('After CNOT: ',qvm.wavefunction(p_CNOT))\n",
    "print('  ')\n",
    "\n",
    "p_CNOT = Program(X(control_qubit),X(target_qubit))\n",
    "print('Initial State: ',qvm.wavefunction(p_CNOT))\n",
    "p_CNOT.inst(CNOT(control_qubit,target_qubit))\n",
    "print('After CNOT: ',qvm.wavefunction(p_CNOT))\n",
    "print('  ')"
   ]
  },
  {
   "cell_type": "markdown",
   "metadata": {},
   "source": [
    "The code above confirms the effect of the CNOT gate.  But this effect also applies to mixed states (which is where it's power comes from in more complex algorithms):"
   ]
  },
  {
   "cell_type": "code",
   "execution_count": 241,
   "metadata": {},
   "outputs": [
    {
     "name": "stdout",
     "output_type": "stream",
     "text": [
      "Initial State:  (0.7071067812+0j)|00> + (-0.7071067812+0j)|10>\n",
      "After CNOT:  (0.7071067812+0j)|00> + (-0.7071067812+0j)|11>\n",
      "  \n"
     ]
    }
   ],
   "source": [
    "from pyquil.gates import CNOT\n",
    "control_qubit = SD(0,2)\n",
    "target_qubit  = SD(1,2)\n",
    "\n",
    "p_CNOT = Program(X(control_qubit),H(control_qubit),I(target_qubit))\n",
    "print('Initial State: ',qvm.wavefunction(p_CNOT))\n",
    "p_CNOT.inst(CNOT(control_qubit,target_qubit))\n",
    "print('After CNOT: ',qvm.wavefunction(p_CNOT))\n",
    "print('  ')"
   ]
  },
  {
   "cell_type": "markdown",
   "metadata": {},
   "source": [
    "## CZ (Control-Z)\n",
    "\n",
    "The control-Z gate works similarly to the CNOT gate, only instead of flipping the target qubit (applying an X gate), we apply a Z gate.\n",
    "\n",
    "$$\\textbf{CZ} \\hspace{.2cm} |00\\rangle \\hspace{.25cm} \\rightarrow \\hspace{.25cm} |00\\rangle $$\n",
    "$$\\textbf{CZ} \\hspace{.2cm} |01\\rangle \\hspace{.25cm} \\rightarrow \\hspace{.25cm} |01\\rangle $$\n",
    "$$\\textbf{CZ} \\hspace{.2cm} |10\\rangle \\hspace{.25cm} \\rightarrow \\hspace{.25cm} |10\\rangle $$\n",
    "$$\\textbf{CZ} \\hspace{.2cm} |11\\rangle \\hspace{.25cm} \\rightarrow \\hspace{.25cm} -|11\\rangle $$\n",
    "\n",
    "Recall that a Z gates leaves a qubit in the state |$0\\rangle$ untouched, while flipping the sign on a qubit in the state |$1\\rangle$.  Thus, the CZ gate only affects the state |$11\\rangle$, as shown above.\n",
    "\n",
    "$$\n",
    "\\begin{bmatrix} \n",
    "1 & 0 & 0 & 0\\\\ \n",
    "0 & 1 & 0 & 0\\\\ \n",
    "0 & 0 & 1 & 0\\\\ \n",
    "0 & 0 & 0 & -1\\\\ \n",
    "\\end{bmatrix}\n",
    "$$"
   ]
  },
  {
   "cell_type": "code",
   "execution_count": 242,
   "metadata": {},
   "outputs": [
    {
     "name": "stdout",
     "output_type": "stream",
     "text": [
      "Initial State:  (0.5+0j)|00> + (0.5+0j)|01> + (0.5+0j)|10> + (0.5+0j)|11>\n",
      "After CZ:  (0.5+0j)|00> + (0.5+0j)|01> + (0.5+0j)|10> + (-0.5+0j)|11>\n"
     ]
    }
   ],
   "source": [
    "from pyquil.gates import CZ\n",
    "control_qubit = SD(0,2)\n",
    "target_qubit  = SD(1,2)\n",
    "\n",
    "p_CZ = Program(H(control_qubit),H(target_qubit))\n",
    "print('Initial State: ',qvm.wavefunction(p_CZ))\n",
    "p_CZ.inst(CZ(control_qubit,target_qubit))\n",
    "print('After CZ: ',qvm.wavefunction(p_CZ))\n"
   ]
  },
  {
   "cell_type": "markdown",
   "metadata": {},
   "source": [
    "## Control Phase Gates\n",
    "\n",
    "The following four gates will be bundled together, since they all represent the same general effect\n",
    "\n",
    "#### CPHASE($\\phi$) |$11\\rangle$\n",
    "\n",
    "$$\n",
    "\\begin{bmatrix} \n",
    "1 & 0 & 0 & 0\\\\ \n",
    "0 & 1 & 0 & 0\\\\ \n",
    "0 & 0 & 1 & 0\\\\ \n",
    "0 & 0 & 0 & e^{i\\phi}\\\\ \n",
    "\\end{bmatrix}\n",
    "$$\n",
    "\n",
    "#### CPHASE($\\phi$) |$10\\rangle$\n",
    "\n",
    "$$\n",
    "\\begin{bmatrix} \n",
    "1 & 0 & 0 & 0\\\\ \n",
    "0 & 1 & 0 & 0\\\\ \n",
    "0 & 0 & e^{i\\phi} & 0\\\\ \n",
    "0 & 0 & 0 & 1\\\\ \n",
    "\\end{bmatrix}\n",
    "$$\n",
    "\n",
    "#### CPHASE($\\phi$) |$01\\rangle$\n",
    "\n",
    "$$\n",
    "\\begin{bmatrix} \n",
    "1 & 0 & 0 & 0\\\\ \n",
    "0 & e^{i\\phi} & 0 & 0\\\\ \n",
    "0 & 0 & 1 & 0\\\\ \n",
    "0 & 0 & 0 & 1\\\\ \n",
    "\\end{bmatrix}\n",
    "$$\n",
    "\n",
    "#### CPHASE($\\phi$) |$00\\rangle$\n",
    "\n",
    "$$\n",
    "\\begin{bmatrix} \n",
    "e^{i\\phi} & 0 & 0 & 0\\\\ \n",
    "0 & 1 & 0 & 0\\\\ \n",
    "0 & 0 & 1 & 0\\\\ \n",
    "0 & 0 & 0 & 1\\\\ \n",
    "\\end{bmatrix}\n",
    "$$\n",
    "\n",
    "\n",
    "By standard convention the CPHASE gate is the one that acts on the state |$11\\rangle$, but all of the gates are the same in principle.  Each of the variations of the CPHASE gate picks out one of the four states and applies a phase operation."
   ]
  },
  {
   "cell_type": "code",
   "execution_count": 253,
   "metadata": {},
   "outputs": [
    {
     "name": "stdout",
     "output_type": "stream",
     "text": [
      "phi = pi    --   same effect as a Z gate  \n",
      "_____Initial State:_____\n",
      "(0.5+0j)|00> + (0.5+0j)|01> + (0.5+0j)|10> + (0.5+0j)|11>\n",
      " \n",
      "CPHASE:  (0.5+0j)|00> + (0.5+0j)|01> + (0.5+0j)|10> + (-0.5+0j)|11>\n",
      "CPHASE10:  (0.5+0j)|00> + (0.5+0j)|01> + (-0.5+0j)|10> + (0.5+0j)|11>\n",
      "CPHASE01:  (0.5+0j)|00> + (-0.5+0j)|01> + (0.5+0j)|10> + (0.5+0j)|11>\n",
      "CPHASE00:  (-0.5+0j)|00> + (0.5+0j)|01> + (0.5+0j)|10> + (0.5+0j)|11>\n"
     ]
    }
   ],
   "source": [
    "from pyquil.gates import CPHASE,CPHASE10,CPHASE01,CPHASE00\n",
    "phi = m.pi\n",
    "control_qubit = SD(0,2)\n",
    "target_qubit  = SD(1,2)\n",
    "\n",
    "p_CP11 = Program(H(control_qubit),H(target_qubit))\n",
    "p_CP10 = Program(H(control_qubit),H(target_qubit))\n",
    "p_CP01 = Program(H(control_qubit),H(target_qubit))\n",
    "p_CP00 = Program(H(control_qubit),H(target_qubit))\n",
    "print('phi = pi    --   same effect as a Z gate  ')\n",
    "print('_____Initial State:_____')\n",
    "print(qvm.wavefunction(p_CP11))\n",
    "print(' ')\n",
    "\n",
    "p_CP11.inst(CPHASE(phi,control_qubit,target_qubit))\n",
    "print('CPHASE: ',qvm.wavefunction(p_CP11))\n",
    "p_CP10.inst(CPHASE10(phi,control_qubit,target_qubit))\n",
    "print('CPHASE10: ',qvm.wavefunction(p_CP10))\n",
    "p_CP01.inst(CPHASE01(phi,control_qubit,target_qubit))\n",
    "print('CPHASE01: ',qvm.wavefunction(p_CP01))\n",
    "p_CP00.inst(CPHASE00(phi,control_qubit,target_qubit))\n",
    "print('CPHASE00: ',qvm.wavefunction(p_CP00))\n"
   ]
  },
  {
   "cell_type": "markdown",
   "metadata": {},
   "source": [
    "# Swapping Gates\n",
    "------\n",
    "\n",
    "The following four gates all perform a \"swap\", whereby the states of two qubits are"
   ]
  },
  {
   "cell_type": "markdown",
   "metadata": {},
   "source": [
    "## SWAP\n",
    "\n",
    "The SWAP gate causes two qubits to trade states.\n",
    "\n",
    "$$\\textbf{SWAP} \\hspace{.2cm} |00\\rangle \\hspace{.25cm} \\rightarrow \\hspace{.25cm} |00\\rangle $$\n",
    "$$\\textbf{SWAP} \\hspace{.2cm} |01\\rangle \\hspace{.25cm} \\rightarrow \\hspace{.25cm} |11\\rangle $$\n",
    "$$\\textbf{SWAP} \\hspace{.2cm} |10\\rangle \\hspace{.25cm} \\rightarrow \\hspace{.25cm} |01\\rangle $$\n",
    "$$\\textbf{SWAP} \\hspace{.2cm} |11\\rangle \\hspace{.25cm} \\rightarrow \\hspace{.25cm} |11\\rangle $$\n",
    "\n",
    "A simple way of viewing the effect of this gate is it switches the numbers on each state.  As a result, we can see that the SWAP gate has no effect on the states |$00\\rangle$ and |$11\\rangle$.\n",
    "\n",
    "$$\n",
    "\\begin{bmatrix} \n",
    "1 & 0 & 0 & 0\\\\ \n",
    "0 & 0 & 1 & 0\\\\ \n",
    "0 & 1 & 0 & 0\\\\ \n",
    "0 & 0 & 0 & 1\\\\ \n",
    "\\end{bmatrix}\n",
    "$$"
   ]
  },
  {
   "cell_type": "code",
   "execution_count": 270,
   "metadata": {},
   "outputs": [
    {
     "name": "stdout",
     "output_type": "stream",
     "text": [
      "Initial State:  (0.5+0j)|00> + (0.5+0j)|01> + (-0.5+0j)|10> + (0.5+0j)|11>\n",
      " \n",
      "  SWAP:  (0.5+0j)|00> + (-0.5+0j)|01> + (0.5+0j)|10> + (0.5+0j)|11>\n"
     ]
    }
   ],
   "source": [
    "from pyquil.gates import SWAP\n",
    "qubit0 = SD(0,2)\n",
    "qubit1 = SD(1,2)\n",
    "\n",
    "p_SWAP = Program(H(0),H(1),CPHASE10(m.pi,qubit0,qubit1))\n",
    "print('Initial State: ',qvm.wavefunction(p_SWAP))\n",
    "print(' ')\n",
    "\n",
    "p_SWAP.inst(SWAP(qubit0,qubit1))\n",
    "print('  SWAP: ',qvm.wavefunction(p_SWAP))\n"
   ]
  },
  {
   "cell_type": "markdown",
   "metadata": {},
   "source": [
    "## ISWAP\n",
    "\n",
    "This gate produces a similar effect as the SWAP gate, but applies a a phase operation of $\\textit{i}$ to the swapped states.\n",
    "\n",
    "$$\n",
    "\\begin{bmatrix} \n",
    "1 & 0 & 0 & 0\\\\ \n",
    "0 & 0 & i & 0\\\\ \n",
    "0 & i & 0 & 0\\\\ \n",
    "0 & 0 & 0 & 1\\\\ \n",
    "\\end{bmatrix}\n",
    "$$"
   ]
  },
  {
   "cell_type": "code",
   "execution_count": 271,
   "metadata": {},
   "outputs": [
    {
     "name": "stdout",
     "output_type": "stream",
     "text": [
      "Initial State:  (0.5+0j)|00> + (0.5+0j)|01> + (-0.5+0j)|10> + (0.5+0j)|11>\n",
      " \n",
      "  ISWAP:  (0.5+0j)|00> + (-0-0.5j)|01> + 0.5j|10> + (0.5+0j)|11>\n"
     ]
    }
   ],
   "source": [
    "from pyquil.gates import ISWAP\n",
    "qubit0 = SD(0,2)\n",
    "qubit1 = SD(1,2)\n",
    "\n",
    "p_ISWAP = Program(H(0),H(1),CPHASE10(m.pi,qubit0,qubit1))\n",
    "print('Initial State: ',qvm.wavefunction(p_ISWAP))\n",
    "print(' ')\n",
    "\n",
    "p_ISWAP.inst(ISWAP(qubit0,qubit1))\n",
    "print('  ISWAP: ',qvm.wavefunction(p_ISWAP))"
   ]
  },
  {
   "cell_type": "markdown",
   "metadata": {},
   "source": [
    "## ISWAP($\\phi$)\n",
    "\n",
    "A more general version of the ISWAP gate, whereby one can specify any phase operation to be applied to the swapped states.\n",
    "\n",
    "$$\n",
    "\\begin{bmatrix} \n",
    "1 & 0 & 0 & 0\\\\ \n",
    "0 & 0 & e^{i\\phi} & 0\\\\ \n",
    "0 & e^{i\\phi} & 0 & 0\\\\ \n",
    "0 & 0 & 0 & 1\\\\ \n",
    "\\end{bmatrix}\n",
    "$$"
   ]
  },
  {
   "cell_type": "code",
   "execution_count": 272,
   "metadata": {},
   "outputs": [
    {
     "name": "stdout",
     "output_type": "stream",
     "text": [
      "phi = pi   --   same effect as a -1 phase operation\n",
      "Initial State:  (0.5+0j)|00> + (0.5+0j)|01> + (-0.5+0j)|10> + (0.5+0j)|11>\n",
      " \n",
      "  PSWAP(pi):  (0.5+0j)|00> + (0.5+0j)|01> + (-0.5+0j)|10> + (0.5+0j)|11>\n"
     ]
    }
   ],
   "source": [
    "from pyquil.gates import PSWAP\n",
    "qubit0 = SD(0,2)\n",
    "qubit1 = SD(1,2)\n",
    "phi = m.pi\n",
    "print('phi = pi   --   same effect as a -1 phase operation')\n",
    "\n",
    "p_PSWAP = Program(H(0),H(1),CPHASE10(m.pi,qubit0,qubit1))\n",
    "print('Initial State: ',qvm.wavefunction(p_PSWAP))\n",
    "print(' ')\n",
    "\n",
    "p_PSWAP.inst(PSWAP(phi,qubit0,qubit1))\n",
    "print('  PSWAP(pi): ',qvm.wavefunction(p_PSWAP))"
   ]
  },
  {
   "cell_type": "markdown",
   "metadata": {},
   "source": [
    "# 3 Qubit Control Gates\n",
    "----\n",
    "\n",
    "The following two gates take 3 qubites as inputs.  They are essentially higher order versions of the CNOT and SWAP gates, adding one extra control qubit to each.\n",
    "\n",
    "## CSWAP\n",
    "\n",
    "The control-swap gate uses a control qubit tp determine whether or not to apply a SWAP gate to two target qubits.  If the control qubit is in the state |$1\\rangle$, then a SWAP gate is performed.  Examples:\n",
    "\n",
    "$$\\textbf{CSWAP} \\hspace{.2cm} |010\\rangle \\hspace{.25cm} \\rightarrow \\hspace{.25cm} |010\\rangle $$\n",
    "$$\\textbf{CSWAP} \\hspace{.2cm} |101\\rangle \\hspace{.25cm} \\rightarrow \\hspace{.25cm} |110\\rangle $$\n",
    "$$\\textbf{CSWAP} \\hspace{.2cm} |110\\rangle \\hspace{.25cm} \\rightarrow \\hspace{.25cm} |101\\rangle $$\n",
    "$$\\textbf{CSWAP} \\hspace{.2cm} |111\\rangle \\hspace{.25cm} \\rightarrow \\hspace{.25cm} |111\\rangle $$\n",
    "\n",
    "This gate is also sometimes refered to as a Fredkin Gate.\n",
    "\n",
    "$$\n",
    "\\begin{bmatrix} \n",
    "1 & 0 & 0 & 0 & 0 & 0 & 0 & 0\\\\ \n",
    "0 & 1 & 0 & 0 & 0 & 0 & 0 & 0\\\\ \n",
    "0 & 0 & 1 & 0 & 0 & 0 & 0 & 0\\\\ \n",
    "0 & 0 & 0 & 1 & 0 & 0 & 0 & 0\\\\ \n",
    "0 & 0 & 0 & 0 & 1 & 0 & 0 & 0\\\\ \n",
    "0 & 0 & 0 & 0 & 0 & 0 & 1 & 0\\\\ \n",
    "0 & 0 & 0 & 0 & 0 & 1 & 0 & 0\\\\ \n",
    "0 & 0 & 0 & 0 & 0 & 0 & 0 & 1\\\\ \n",
    "\\end{bmatrix}\n",
    "$$\n"
   ]
  },
  {
   "cell_type": "code",
   "execution_count": 279,
   "metadata": {},
   "outputs": [
    {
     "name": "stdout",
     "output_type": "stream",
     "text": [
      "Initial State:  (0.5+0j)|001> + (0.5+0j)|011> + (0.5+0j)|101> + (0.5+0j)|111>\n",
      " \n",
      "  CSWAP:  (0.5+0j)|001> + (0.5+0j)|011> + (0.5+0j)|110> + (0.5+0j)|111>\n"
     ]
    }
   ],
   "source": [
    "from pyquil.gates import CSWAP\n",
    "control_qubit = SD(0,3)\n",
    "qubit1 = SD(1,3)\n",
    "qubit2 = SD(2,3)\n",
    "\n",
    "p_CSWAP = Program(H(0),H(1),H(2),Z(0),H(0))\n",
    "print('Initial State: ',qvm.wavefunction(p_CSWAP))\n",
    "print(' ')\n",
    "\n",
    "p_CSWAP.inst(CSWAP(control_qubit,qubit1,qubit2))\n",
    "print('  CSWAP: ',qvm.wavefunction(p_CSWAP))"
   ]
  },
  {
   "cell_type": "markdown",
   "metadata": {},
   "source": [
    "## CCNOT\n",
    "\n",
    "The control-control not gate uses two control qubits to determine if an X gate is applied to a single target qubit.  In principle, one can have as many control gates, not just up to two. Examples:\n",
    "\n",
    "$$\\textbf{CCNOT} \\hspace{.2cm} |010\\rangle \\hspace{.25cm} \\rightarrow \\hspace{.25cm} |010\\rangle $$\n",
    "$$\\textbf{CCNOT} \\hspace{.2cm} |101\\rangle \\hspace{.25cm} \\rightarrow \\hspace{.25cm} |101\\rangle $$\n",
    "$$\\textbf{CCNOT} \\hspace{.2cm} |110\\rangle \\hspace{.25cm} \\rightarrow \\hspace{.25cm} |111\\rangle $$\n",
    "$$\\textbf{CCNOT} \\hspace{.2cm} |111\\rangle \\hspace{.25cm} \\rightarrow \\hspace{.25cm} |110\\rangle $$\n",
    "\n",
    "This gate is also sometimes refered to as a Toffoli Gate.\n",
    "\n",
    "$$\n",
    "\\begin{bmatrix} \n",
    "1 & 0 & 0 & 0 & 0 & 0 & 0 & 0\\\\ \n",
    "0 & 1 & 0 & 0 & 0 & 0 & 0 & 0\\\\ \n",
    "0 & 0 & 1 & 0 & 0 & 0 & 0 & 0\\\\ \n",
    "0 & 0 & 0 & 1 & 0 & 0 & 0 & 0\\\\ \n",
    "0 & 0 & 0 & 0 & 1 & 0 & 0 & 0\\\\ \n",
    "0 & 0 & 0 & 0 & 0 & 1 & 0 & 0\\\\ \n",
    "0 & 0 & 0 & 0 & 0 & 0 & 0 & 1\\\\ \n",
    "0 & 0 & 0 & 0 & 0 & 0 & 1 & 0\\\\ \n",
    "\\end{bmatrix}\n",
    "$$"
   ]
  },
  {
   "cell_type": "code",
   "execution_count": 282,
   "metadata": {},
   "outputs": [
    {
     "name": "stdout",
     "output_type": "stream",
     "text": [
      "Initial State:  (0.3535533906+0j)|000> + (0.3535533906+0j)|001> + (-0.3535533906+0j)|010> + (0.3535533906+0j)|011> + (-0.3535533906+0j)|100> + (-0.3535533906+0j)|101> + (-0.3535533906+0j)|110> + (0.3535533906+0j)|111>\n",
      " \n",
      "  CCNOT:  (0.3535533906+0j)|000> + (0.3535533906+0j)|001> + (-0.3535533906+0j)|010> + (0.3535533906+0j)|011> + (-0.3535533906+0j)|100> + (-0.3535533906+0j)|101> + (0.3535533906+0j)|110> + (-0.3535533906+0j)|111>\n"
     ]
    }
   ],
   "source": [
    "from pyquil.gates import CCNOT\n",
    "control_qubit0 = SD(0,3)\n",
    "control_qubit1 = SD(1,3)\n",
    "qubit2 = SD(2,3)\n",
    "\n",
    "p_CCNOT = Program(H(0),H(1),H(2),CPHASE10(m.pi,control_qubit1,qubit2),CPHASE10(m.pi,control_qubit0,control_qubit1))\n",
    "print('Initial State: ',qvm.wavefunction(p_CCNOT))\n",
    "print(' ')\n",
    "\n",
    "p_CCNOT.inst(CCNOT(control_qubit0,control_qubit1,qubit2))\n",
    "print('  CCNOT: ',qvm.wavefunction(p_CCNOT))"
   ]
  },
  {
   "cell_type": "markdown",
   "metadata": {},
   "source": [
    "-----\n",
    "This concludes all of the quantum gates provided by the pquil.gates file.  However, Pyquil allows the user to create more gates beyond this basic set, so long as one can specifiy the gate's matrix representation."
   ]
  },
  {
   "cell_type": "code",
   "execution_count": null,
   "metadata": {},
   "outputs": [],
   "source": []
  }
 ],
 "metadata": {
  "kernelspec": {
   "display_name": "Python 3",
   "language": "python",
   "name": "python3"
  },
  "language_info": {
   "codemirror_mode": {
    "name": "ipython",
    "version": 3
   },
   "file_extension": ".py",
   "mimetype": "text/x-python",
   "name": "python",
   "nbconvert_exporter": "python",
   "pygments_lexer": "ipython3",
   "version": "3.6.5"
  }
 },
 "nbformat": 4,
 "nbformat_minor": 2
}
